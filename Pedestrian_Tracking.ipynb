{
  "cells": [
    {
      "cell_type": "markdown",
      "metadata": {
        "id": "view-in-github",
        "colab_type": "text"
      },
      "source": [
        "<a href=\"https://colab.research.google.com/github/wendycao411/Pedestrian_Tracking/blob/main/Pedestrian_Tracking.ipynb\" target=\"_parent\"><img src=\"https://colab.research.google.com/assets/colab-badge.svg\" alt=\"Open In Colab\"/></a>"
      ]
    },
    {
      "cell_type": "markdown",
      "metadata": {
        "id": "DDFGYKD053XJ"
      },
      "source": [
        "# Pedestrian_Tracking Main"
      ]
    },
    {
      "cell_type": "markdown",
      "metadata": {
        "id": "waJYMUFX53XL"
      },
      "source": [
        "created by wendycao 01/2025"
      ]
    },
    {
      "cell_type": "markdown",
      "metadata": {
        "id": "SMbmM3or53XM"
      },
      "source": [
        "#### When running in google colab:"
      ]
    },
    {
      "cell_type": "code",
      "source": [
        "from google.colab import drive\n",
        "drive.mount('/content/drive')"
      ],
      "metadata": {
        "id": "j95Dp3x_GBFF",
        "outputId": "bea1ba13-ad83-48b1-80c9-7d3b80e9d289",
        "colab": {
          "base_uri": "https://localhost:8080/"
        }
      },
      "execution_count": 14,
      "outputs": [
        {
          "output_type": "stream",
          "name": "stdout",
          "text": [
            "Mounted at /content/drive\n"
          ]
        }
      ]
    },
    {
      "cell_type": "code",
      "execution_count": 1,
      "metadata": {
        "colab": {
          "base_uri": "https://localhost:8080/"
        },
        "id": "BKICUlSV53XN",
        "outputId": "128c9c0f-c693-4095-db01-6a93ae83cf26"
      },
      "outputs": [
        {
          "output_type": "stream",
          "name": "stdout",
          "text": [
            "/content\n",
            "Cloning into 'Pedestrian_Tracking'...\n",
            "remote: Enumerating objects: 324, done.\u001b[K\n",
            "remote: Counting objects: 100% (47/47), done.\u001b[K\n",
            "remote: Compressing objects: 100% (37/37), done.\u001b[K\n",
            "remote: Total 324 (delta 23), reused 23 (delta 10), pack-reused 277 (from 1)\u001b[K\n",
            "Receiving objects: 100% (324/324), 97.19 MiB | 12.02 MiB/s, done.\n",
            "Resolving deltas: 100% (121/121), done.\n"
          ]
        }
      ],
      "source": [
        "%cd /content/\n",
        "!git clone  \"https://github.com/wendycao411/Pedestrian_Tracking.git\""
      ]
    },
    {
      "cell_type": "markdown",
      "metadata": {
        "id": "p4PQj_GXDMFb"
      },
      "source": [
        "#### Install all dependencies"
      ]
    },
    {
      "cell_type": "code",
      "execution_count": 2,
      "metadata": {
        "colab": {
          "base_uri": "https://localhost:8080/"
        },
        "id": "Pz74dzJK53XO",
        "outputId": "8e795d74-0ec5-45e1-89a8-d2ef4f90bd7b"
      },
      "outputs": [
        {
          "output_type": "stream",
          "name": "stdout",
          "text": [
            "/content/Pedestrian_Tracking\n"
          ]
        }
      ],
      "source": [
        "%cd /content/Pedestrian_Tracking"
      ]
    },
    {
      "cell_type": "code",
      "execution_count": null,
      "metadata": {
        "id": "hxERsChADIgc"
      },
      "outputs": [],
      "source": [
        "%pip install -e \".[dev]\""
      ]
    },
    {
      "cell_type": "markdown",
      "metadata": {
        "id": "Y2GSGDrc53XQ"
      },
      "source": [
        "Ensure that numpy is the correct version (float is deprecated or smth so we need to use a less recent version)"
      ]
    },
    {
      "cell_type": "code",
      "execution_count": null,
      "metadata": {
        "id": "D5H6tsDe53XQ"
      },
      "outputs": [],
      "source": [
        "%pip show numpy\n",
        "%pip uninstall numpy -y\n",
        "%pip install \"numpy<1.24\""
      ]
    },
    {
      "cell_type": "code",
      "execution_count": 1,
      "metadata": {
        "colab": {
          "base_uri": "https://localhost:8080/",
          "height": 1000
        },
        "collapsed": true,
        "id": "-ag2cq8J53XQ",
        "outputId": "737833f4-6528-4bcb-e1f2-1504d0318307"
      },
      "outputs": [
        {
          "output_type": "stream",
          "name": "stdout",
          "text": [
            "Collecting os-sys\n",
            "  Downloading os_sys-2.1.4-py3-none-any.whl.metadata (9.9 kB)\n",
            "Collecting pygubu (from os-sys)\n",
            "  Downloading pygubu-0.36-py3-none-any.whl.metadata (7.2 kB)\n",
            "Requirement already satisfied: pytz in /usr/local/lib/python3.11/dist-packages (from os-sys) (2024.2)\n",
            "Requirement already satisfied: sqlparse in /usr/local/lib/python3.11/dist-packages (from os-sys) (0.5.3)\n",
            "Collecting progress (from os-sys)\n",
            "  Downloading progress-1.6.tar.gz (7.8 kB)\n",
            "  Preparing metadata (setup.py) ... \u001b[?25l\u001b[?25hdone\n",
            "Requirement already satisfied: tqdm in /usr/local/lib/python3.11/dist-packages (from os-sys) (4.67.1)\n",
            "Collecting progressbar (from os-sys)\n",
            "  Downloading progressbar-2.5.tar.gz (10 kB)\n",
            "  Preparing metadata (setup.py) ... \u001b[?25l\u001b[?25hdone\n",
            "Requirement already satisfied: matplotlib in /usr/local/lib/python3.11/dist-packages (from os-sys) (3.10.0)\n",
            "Requirement already satisfied: numpy in /usr/local/lib/python3.11/dist-packages (from os-sys) (1.23.5)\n",
            "Requirement already satisfied: six in /usr/local/lib/python3.11/dist-packages (from os-sys) (1.17.0)\n",
            "Collecting jupyter (from os-sys)\n",
            "  Downloading jupyter-1.1.1-py2.py3-none-any.whl.metadata (2.0 kB)\n",
            "Requirement already satisfied: pandas in /usr/local/lib/python3.11/dist-packages (from os-sys) (2.2.2)\n",
            "Requirement already satisfied: beautifulsoup4 in /usr/local/lib/python3.11/dist-packages (from os-sys) (4.12.3)\n",
            "Collecting Eel (from os-sys)\n",
            "  Downloading eel-0.18.1.tar.gz (26 kB)\n",
            "  Preparing metadata (setup.py) ... \u001b[?25l\u001b[?25hdone\n",
            "Collecting extract-zip (from os-sys)\n",
            "  Downloading extract_zip-1.0.0-py3-none-any.whl.metadata (403 bytes)\n",
            "INFO: pip is looking at multiple versions of os-sys to determine which version is compatible with other requirements. This could take a while.\n",
            "Collecting os-sys\n",
            "  Downloading os_sys-2.1.3-py3-none-any.whl.metadata (9.9 kB)\n",
            "  Downloading os_sys-2.1.2-py3-none-any.whl.metadata (9.9 kB)\n",
            "  Downloading os_sys-2.1.1-py3-none-any.whl.metadata (9.9 kB)\n",
            "  Downloading os_sys-2.1.0-py3-none-any.whl.metadata (9.9 kB)\n",
            "  Downloading os_sys-2.0.9-py3-none-any.whl.metadata (9.9 kB)\n",
            "  Downloading os_sys-2.0.8-py3-none-any.whl.metadata (9.9 kB)\n",
            "  Downloading os_sys-2.0.7-py3-none-any.whl.metadata (9.9 kB)\n",
            "INFO: pip is still looking at multiple versions of os-sys to determine which version is compatible with other requirements. This could take a while.\n",
            "  Downloading os_sys-2.0.6-py3-none-any.whl.metadata (9.5 kB)\n",
            "  Downloading os_sys-2.0.5-py3-none-any.whl.metadata (9.5 kB)\n",
            "  Downloading os_sys-2.0.4-py3-none-any.whl.metadata (9.5 kB)\n",
            "Collecting webview (from os-sys)\n",
            "  Downloading webview-0.1.5.tar.gz (18 kB)\n",
            "  \u001b[1;31merror\u001b[0m: \u001b[1msubprocess-exited-with-error\u001b[0m\n",
            "  \n",
            "  \u001b[31m×\u001b[0m \u001b[32mpython setup.py egg_info\u001b[0m did not run successfully.\n",
            "  \u001b[31m│\u001b[0m exit code: \u001b[1;36m1\u001b[0m\n",
            "  \u001b[31m╰─>\u001b[0m See above for output.\n",
            "  \n",
            "  \u001b[1;35mnote\u001b[0m: This error originates from a subprocess, and is likely not a problem with pip.\n",
            "  Preparing metadata (setup.py) ... \u001b[?25l\u001b[?25herror\n",
            "\u001b[1;31merror\u001b[0m: \u001b[1mmetadata-generation-failed\u001b[0m\n",
            "\n",
            "\u001b[31m×\u001b[0m Encountered error while generating package metadata.\n",
            "\u001b[31m╰─>\u001b[0m See above for output.\n",
            "\n",
            "\u001b[1;35mnote\u001b[0m: This is an issue with the package mentioned above, not pip.\n",
            "\u001b[1;36mhint\u001b[0m: See above for details.\n",
            "Collecting roboflow\n",
            "  Downloading roboflow-1.1.51-py3-none-any.whl.metadata (9.7 kB)\n",
            "Requirement already satisfied: certifi in /usr/local/lib/python3.11/dist-packages (from roboflow) (2024.12.14)\n",
            "Collecting idna==3.7 (from roboflow)\n",
            "  Downloading idna-3.7-py3-none-any.whl.metadata (9.9 kB)\n",
            "Requirement already satisfied: cycler in /usr/local/lib/python3.11/dist-packages (from roboflow) (0.12.1)\n",
            "Requirement already satisfied: kiwisolver>=1.3.1 in /usr/local/lib/python3.11/dist-packages (from roboflow) (1.4.8)\n",
            "Requirement already satisfied: matplotlib in /usr/local/lib/python3.11/dist-packages (from roboflow) (3.10.0)\n",
            "Requirement already satisfied: numpy>=1.18.5 in /usr/local/lib/python3.11/dist-packages (from roboflow) (1.23.5)\n",
            "Requirement already satisfied: opencv-python-headless==4.10.0.84 in /usr/local/lib/python3.11/dist-packages (from roboflow) (4.10.0.84)\n",
            "Requirement already satisfied: Pillow>=7.1.2 in /usr/local/lib/python3.11/dist-packages (from roboflow) (11.1.0)\n",
            "Requirement already satisfied: python-dateutil in /usr/local/lib/python3.11/dist-packages (from roboflow) (2.8.2)\n",
            "Collecting python-dotenv (from roboflow)\n",
            "  Downloading python_dotenv-1.0.1-py3-none-any.whl.metadata (23 kB)\n",
            "Requirement already satisfied: requests in /usr/local/lib/python3.11/dist-packages (from roboflow) (2.32.3)\n",
            "Requirement already satisfied: six in /usr/local/lib/python3.11/dist-packages (from roboflow) (1.17.0)\n",
            "Requirement already satisfied: urllib3>=1.26.6 in /usr/local/lib/python3.11/dist-packages (from roboflow) (2.3.0)\n",
            "Requirement already satisfied: tqdm>=4.41.0 in /usr/local/lib/python3.11/dist-packages (from roboflow) (4.67.1)\n",
            "Requirement already satisfied: PyYAML>=5.3.1 in /usr/local/lib/python3.11/dist-packages (from roboflow) (6.0.2)\n",
            "Requirement already satisfied: requests-toolbelt in /usr/local/lib/python3.11/dist-packages (from roboflow) (1.0.0)\n",
            "Collecting filetype (from roboflow)\n",
            "  Downloading filetype-1.2.0-py2.py3-none-any.whl.metadata (6.5 kB)\n",
            "Requirement already satisfied: contourpy>=1.0.1 in /usr/local/lib/python3.11/dist-packages (from matplotlib->roboflow) (1.3.1)\n",
            "Requirement already satisfied: fonttools>=4.22.0 in /usr/local/lib/python3.11/dist-packages (from matplotlib->roboflow) (4.55.3)\n",
            "Requirement already satisfied: packaging>=20.0 in /usr/local/lib/python3.11/dist-packages (from matplotlib->roboflow) (24.2)\n",
            "Requirement already satisfied: pyparsing>=2.3.1 in /usr/local/lib/python3.11/dist-packages (from matplotlib->roboflow) (3.2.1)\n",
            "Requirement already satisfied: charset-normalizer<4,>=2 in /usr/local/lib/python3.11/dist-packages (from requests->roboflow) (3.4.1)\n",
            "Downloading roboflow-1.1.51-py3-none-any.whl (81 kB)\n",
            "\u001b[2K   \u001b[90m━━━━━━━━━━━━━━━━━━━━━━━━━━━━━━━━━━━━━━━━\u001b[0m \u001b[32m81.5/81.5 kB\u001b[0m \u001b[31m9.7 MB/s\u001b[0m eta \u001b[36m0:00:00\u001b[0m\n",
            "\u001b[?25hDownloading idna-3.7-py3-none-any.whl (66 kB)\n",
            "\u001b[2K   \u001b[90m━━━━━━━━━━━━━━━━━━━━━━━━━━━━━━━━━━━━━━━━\u001b[0m \u001b[32m66.8/66.8 kB\u001b[0m \u001b[31m7.1 MB/s\u001b[0m eta \u001b[36m0:00:00\u001b[0m\n",
            "\u001b[?25hDownloading filetype-1.2.0-py2.py3-none-any.whl (19 kB)\n",
            "Downloading python_dotenv-1.0.1-py3-none-any.whl (19 kB)\n",
            "Installing collected packages: filetype, python-dotenv, idna, roboflow\n",
            "  Attempting uninstall: idna\n",
            "    Found existing installation: idna 3.10\n",
            "    Uninstalling idna-3.10:\n",
            "      Successfully uninstalled idna-3.10\n",
            "\u001b[31mERROR: pip's dependency resolver does not currently take into account all the packages that are installed. This behaviour is the source of the following dependency conflicts.\n",
            "bigframes 1.31.0 requires numpy>=1.24.0, but you have numpy 1.23.5 which is incompatible.\n",
            "blosc2 3.0.0 requires numpy>=1.25.0, but you have numpy 1.23.5 which is incompatible.\u001b[0m\u001b[31m\n",
            "\u001b[0mSuccessfully installed filetype-1.2.0 idna-3.7 python-dotenv-1.0.1 roboflow-1.1.51\n",
            "Collecting inference_sdk\n",
            "  Downloading inference_sdk-0.34.0-py3-none-any.whl.metadata (25 kB)\n",
            "Requirement already satisfied: requests<3.0.0,>=2.32.0 in /usr/local/lib/python3.11/dist-packages (from inference_sdk) (2.32.3)\n",
            "Collecting dataclasses-json~=0.6.0 (from inference_sdk)\n",
            "  Downloading dataclasses_json-0.6.7-py3-none-any.whl.metadata (25 kB)\n",
            "Requirement already satisfied: opencv-python<=4.10.0.84,>=4.8.1.78 in /usr/local/lib/python3.11/dist-packages (from inference_sdk) (4.10.0.84)\n",
            "Collecting pillow<11.0,>=9.0.0 (from inference_sdk)\n",
            "  Downloading pillow-10.4.0-cp311-cp311-manylinux_2_28_x86_64.whl.metadata (9.2 kB)\n",
            "Collecting supervision<=0.30.0,>=0.25.1 (from inference_sdk)\n",
            "  Downloading supervision-0.25.1-py3-none-any.whl.metadata (14 kB)\n",
            "Requirement already satisfied: numpy<=1.26.4 in /usr/local/lib/python3.11/dist-packages (from inference_sdk) (1.23.5)\n",
            "Collecting aiohttp<=3.10.11,>=3.9.0 (from inference_sdk)\n",
            "  Downloading aiohttp-3.10.11-cp311-cp311-manylinux_2_17_x86_64.manylinux2014_x86_64.whl.metadata (7.7 kB)\n",
            "Collecting backoff~=2.2.0 (from inference_sdk)\n",
            "  Downloading backoff-2.2.1-py3-none-any.whl.metadata (14 kB)\n",
            "Requirement already satisfied: py-cpuinfo~=9.0.0 in /usr/local/lib/python3.11/dist-packages (from inference_sdk) (9.0.0)\n",
            "Requirement already satisfied: aiohappyeyeballs>=2.3.0 in /usr/local/lib/python3.11/dist-packages (from aiohttp<=3.10.11,>=3.9.0->inference_sdk) (2.4.4)\n",
            "Requirement already satisfied: aiosignal>=1.1.2 in /usr/local/lib/python3.11/dist-packages (from aiohttp<=3.10.11,>=3.9.0->inference_sdk) (1.3.2)\n",
            "Requirement already satisfied: attrs>=17.3.0 in /usr/local/lib/python3.11/dist-packages (from aiohttp<=3.10.11,>=3.9.0->inference_sdk) (24.3.0)\n",
            "Requirement already satisfied: frozenlist>=1.1.1 in /usr/local/lib/python3.11/dist-packages (from aiohttp<=3.10.11,>=3.9.0->inference_sdk) (1.5.0)\n",
            "Requirement already satisfied: multidict<7.0,>=4.5 in /usr/local/lib/python3.11/dist-packages (from aiohttp<=3.10.11,>=3.9.0->inference_sdk) (6.1.0)\n",
            "Requirement already satisfied: yarl<2.0,>=1.12.0 in /usr/local/lib/python3.11/dist-packages (from aiohttp<=3.10.11,>=3.9.0->inference_sdk) (1.18.3)\n",
            "Collecting marshmallow<4.0.0,>=3.18.0 (from dataclasses-json~=0.6.0->inference_sdk)\n",
            "  Downloading marshmallow-3.26.0-py3-none-any.whl.metadata (7.3 kB)\n",
            "Collecting typing-inspect<1,>=0.4.0 (from dataclasses-json~=0.6.0->inference_sdk)\n",
            "  Downloading typing_inspect-0.9.0-py3-none-any.whl.metadata (1.5 kB)\n",
            "Requirement already satisfied: charset-normalizer<4,>=2 in /usr/local/lib/python3.11/dist-packages (from requests<3.0.0,>=2.32.0->inference_sdk) (3.4.1)\n",
            "Requirement already satisfied: idna<4,>=2.5 in /usr/local/lib/python3.11/dist-packages (from requests<3.0.0,>=2.32.0->inference_sdk) (3.7)\n",
            "Requirement already satisfied: urllib3<3,>=1.21.1 in /usr/local/lib/python3.11/dist-packages (from requests<3.0.0,>=2.32.0->inference_sdk) (2.3.0)\n",
            "Requirement already satisfied: certifi>=2017.4.17 in /usr/local/lib/python3.11/dist-packages (from requests<3.0.0,>=2.32.0->inference_sdk) (2024.12.14)\n",
            "Requirement already satisfied: contourpy>=1.0.7 in /usr/local/lib/python3.11/dist-packages (from supervision<=0.30.0,>=0.25.1->inference_sdk) (1.3.1)\n",
            "Requirement already satisfied: defusedxml<0.8.0,>=0.7.1 in /usr/local/lib/python3.11/dist-packages (from supervision<=0.30.0,>=0.25.1->inference_sdk) (0.7.1)\n",
            "Requirement already satisfied: matplotlib>=3.6.0 in /usr/local/lib/python3.11/dist-packages (from supervision<=0.30.0,>=0.25.1->inference_sdk) (3.10.0)\n",
            "Requirement already satisfied: pyyaml>=5.3 in /usr/local/lib/python3.11/dist-packages (from supervision<=0.30.0,>=0.25.1->inference_sdk) (6.0.2)\n",
            "Requirement already satisfied: scipy<2.0.0,>=1.10.0 in /usr/local/lib/python3.11/dist-packages (from supervision<=0.30.0,>=0.25.1->inference_sdk) (1.13.1)\n",
            "Requirement already satisfied: tqdm>=4.62.3 in /usr/local/lib/python3.11/dist-packages (from supervision<=0.30.0,>=0.25.1->inference_sdk) (4.67.1)\n",
            "Requirement already satisfied: packaging>=17.0 in /usr/local/lib/python3.11/dist-packages (from marshmallow<4.0.0,>=3.18.0->dataclasses-json~=0.6.0->inference_sdk) (24.2)\n",
            "Requirement already satisfied: cycler>=0.10 in /usr/local/lib/python3.11/dist-packages (from matplotlib>=3.6.0->supervision<=0.30.0,>=0.25.1->inference_sdk) (0.12.1)\n",
            "Requirement already satisfied: fonttools>=4.22.0 in /usr/local/lib/python3.11/dist-packages (from matplotlib>=3.6.0->supervision<=0.30.0,>=0.25.1->inference_sdk) (4.55.3)\n",
            "Requirement already satisfied: kiwisolver>=1.3.1 in /usr/local/lib/python3.11/dist-packages (from matplotlib>=3.6.0->supervision<=0.30.0,>=0.25.1->inference_sdk) (1.4.8)\n",
            "Requirement already satisfied: pyparsing>=2.3.1 in /usr/local/lib/python3.11/dist-packages (from matplotlib>=3.6.0->supervision<=0.30.0,>=0.25.1->inference_sdk) (3.2.1)\n",
            "Requirement already satisfied: python-dateutil>=2.7 in /usr/local/lib/python3.11/dist-packages (from matplotlib>=3.6.0->supervision<=0.30.0,>=0.25.1->inference_sdk) (2.8.2)\n",
            "Collecting mypy-extensions>=0.3.0 (from typing-inspect<1,>=0.4.0->dataclasses-json~=0.6.0->inference_sdk)\n",
            "  Downloading mypy_extensions-1.0.0-py3-none-any.whl.metadata (1.1 kB)\n",
            "Requirement already satisfied: typing-extensions>=3.7.4 in /usr/local/lib/python3.11/dist-packages (from typing-inspect<1,>=0.4.0->dataclasses-json~=0.6.0->inference_sdk) (4.12.2)\n",
            "Requirement already satisfied: propcache>=0.2.0 in /usr/local/lib/python3.11/dist-packages (from yarl<2.0,>=1.12.0->aiohttp<=3.10.11,>=3.9.0->inference_sdk) (0.2.1)\n",
            "Requirement already satisfied: six>=1.5 in /usr/local/lib/python3.11/dist-packages (from python-dateutil>=2.7->matplotlib>=3.6.0->supervision<=0.30.0,>=0.25.1->inference_sdk) (1.17.0)\n",
            "Downloading inference_sdk-0.34.0-py3-none-any.whl (44 kB)\n",
            "\u001b[2K   \u001b[90m━━━━━━━━━━━━━━━━━━━━━━━━━━━━━━━━━━━━━━━━\u001b[0m \u001b[32m45.0/45.0 kB\u001b[0m \u001b[31m4.3 MB/s\u001b[0m eta \u001b[36m0:00:00\u001b[0m\n",
            "\u001b[?25hDownloading aiohttp-3.10.11-cp311-cp311-manylinux_2_17_x86_64.manylinux2014_x86_64.whl (1.3 MB)\n",
            "\u001b[2K   \u001b[90m━━━━━━━━━━━━━━━━━━━━━━━━━━━━━━━━━━━━━━━━\u001b[0m \u001b[32m1.3/1.3 MB\u001b[0m \u001b[31m63.1 MB/s\u001b[0m eta \u001b[36m0:00:00\u001b[0m\n",
            "\u001b[?25hDownloading backoff-2.2.1-py3-none-any.whl (15 kB)\n",
            "Downloading dataclasses_json-0.6.7-py3-none-any.whl (28 kB)\n",
            "Downloading pillow-10.4.0-cp311-cp311-manylinux_2_28_x86_64.whl (4.5 MB)\n",
            "\u001b[2K   \u001b[90m━━━━━━━━━━━━━━━━━━━━━━━━━━━━━━━━━━━━━━━━\u001b[0m \u001b[32m4.5/4.5 MB\u001b[0m \u001b[31m82.1 MB/s\u001b[0m eta \u001b[36m0:00:00\u001b[0m\n",
            "\u001b[?25hDownloading supervision-0.25.1-py3-none-any.whl (181 kB)\n",
            "\u001b[2K   \u001b[90m━━━━━━━━━━━━━━━━━━━━━━━━━━━━━━━━━━━━━━━━\u001b[0m \u001b[32m181.5/181.5 kB\u001b[0m \u001b[31m18.6 MB/s\u001b[0m eta \u001b[36m0:00:00\u001b[0m\n",
            "\u001b[?25hDownloading marshmallow-3.26.0-py3-none-any.whl (50 kB)\n",
            "\u001b[2K   \u001b[90m━━━━━━━━━━━━━━━━━━━━━━━━━━━━━━━━━━━━━━━━\u001b[0m \u001b[32m50.8/50.8 kB\u001b[0m \u001b[31m5.6 MB/s\u001b[0m eta \u001b[36m0:00:00\u001b[0m\n",
            "\u001b[?25hDownloading typing_inspect-0.9.0-py3-none-any.whl (8.8 kB)\n",
            "Downloading mypy_extensions-1.0.0-py3-none-any.whl (4.7 kB)\n",
            "Installing collected packages: pillow, mypy-extensions, marshmallow, backoff, typing-inspect, aiohttp, supervision, dataclasses-json, inference_sdk\n",
            "  Attempting uninstall: pillow\n",
            "    Found existing installation: pillow 11.1.0\n",
            "    Uninstalling pillow-11.1.0:\n",
            "      Successfully uninstalled pillow-11.1.0\n",
            "  Attempting uninstall: aiohttp\n",
            "    Found existing installation: aiohttp 3.11.11\n",
            "    Uninstalling aiohttp-3.11.11:\n",
            "      Successfully uninstalled aiohttp-3.11.11\n",
            "\u001b[31mERROR: pip's dependency resolver does not currently take into account all the packages that are installed. This behaviour is the source of the following dependency conflicts.\n",
            "bigframes 1.31.0 requires numpy>=1.24.0, but you have numpy 1.23.5 which is incompatible.\n",
            "scikit-image 0.25.0 requires numpy>=1.24, but you have numpy 1.23.5 which is incompatible.\u001b[0m\u001b[31m\n",
            "\u001b[0mSuccessfully installed aiohttp-3.10.11 backoff-2.2.1 dataclasses-json-0.6.7 inference_sdk-0.34.0 marshmallow-3.26.0 mypy-extensions-1.0.0 pillow-10.4.0 supervision-0.25.1 typing-inspect-0.9.0\n"
          ]
        },
        {
          "output_type": "display_data",
          "data": {
            "application/vnd.colab-display-data+json": {
              "pip_warning": {
                "packages": [
                  "PIL"
                ]
              },
              "id": "39523b96fb694e738eedfe89f814b853"
            }
          },
          "metadata": {}
        },
        {
          "output_type": "stream",
          "name": "stdout",
          "text": [
            "Requirement already satisfied: easydict in /usr/local/lib/python3.11/dist-packages (1.13)\n"
          ]
        }
      ],
      "source": [
        "%pip install os-sys\n",
        "%pip install roboflow\n",
        "%pip install inference_sdk\n",
        "%pip install easydict"
      ]
    },
    {
      "cell_type": "markdown",
      "metadata": {
        "id": "diZLAZvj53XU"
      },
      "source": [
        "#### Download videos from Google Drive (requires the download link)"
      ]
    },
    {
      "cell_type": "code",
      "source": [
        "%cd /content/Pedestrian_Tracking/ultralytics/yolo/raw-data"
      ],
      "metadata": {
        "id": "jlPw8zUOH15f",
        "outputId": "1f342f9e-75f4-4959-9a62-45b61f6eb923",
        "colab": {
          "base_uri": "https://localhost:8080/"
        }
      },
      "execution_count": 16,
      "outputs": [
        {
          "output_type": "stream",
          "name": "stdout",
          "text": [
            "/content/Pedestrian_Tracking/ultralytics/yolo/data\n"
          ]
        }
      ]
    },
    {
      "cell_type": "code",
      "execution_count": 18,
      "metadata": {
        "colab": {
          "base_uri": "https://localhost:8080/"
        },
        "id": "GNXvvMx053XU",
        "outputId": "ec38109b-56aa-4377-8aac-76a6759dfd22"
      },
      "outputs": [
        {
          "output_type": "stream",
          "name": "stdout",
          "text": [
            "Downloading...\n",
            "From (original): https://drive.google.com/uc?id=1rDg-D5qR5eMpeJW-RWVnWzVG19i-xaxP\n",
            "From (redirected): https://drive.google.com/uc?id=1rDg-D5qR5eMpeJW-RWVnWzVG19i-xaxP&confirm=t&uuid=c30733b5-ce42-4456-bb50-cffcd354a9c0\n",
            "To: /content/Pedestrian_Tracking/ultralytics/yolo/data/Kabukicho_240825.mov\n",
            "100% 597M/597M [00:04<00:00, 126MB/s]\n"
          ]
        }
      ],
      "source": [
        "!gdown https://drive.google.com/uc?id=1rDg-D5qR5eMpeJW-RWVnWzVG19i-xaxP&export=download"
      ]
    },
    {
      "cell_type": "markdown",
      "metadata": {
        "id": "m8NbTY1T53XR"
      },
      "source": [
        "#### Preprocessing (make time lapse, skip frames, etc.)"
      ]
    },
    {
      "cell_type": "code",
      "execution_count": 20,
      "metadata": {
        "colab": {
          "base_uri": "https://localhost:8080/"
        },
        "id": "-QxwTEX253XR",
        "outputId": "e763ab60-b732-4037-a86c-1e5a8d182f2f"
      },
      "outputs": [
        {
          "output_type": "stream",
          "name": "stdout",
          "text": [
            "Kabukicho_240825\n"
          ]
        }
      ],
      "source": [
        "import os\n",
        "import cv2\n",
        "\n",
        "video_path = \"/content/Pedestrian_Tracking/ultralytics/yolo/data/Kabukicho_240825.mov\"\n",
        "file_name = os.path.splitext(os.path.basename(video_path))[0]\n",
        "\n",
        "print(file_name)"
      ]
    },
    {
      "cell_type": "code",
      "execution_count": 24,
      "metadata": {
        "colab": {
          "base_uri": "https://localhost:8080/"
        },
        "id": "JBtJuatf53XS",
        "outputId": "54056b77-7e8a-4213-aefe-ca8248f33ec4"
      },
      "outputs": [
        {
          "output_type": "stream",
          "name": "stdout",
          "text": [
            "saved to /content/Pedestrian_Tracking/timelapsed/Kabukicho_240825_timelapsed5.mp4\n"
          ]
        }
      ],
      "source": [
        "# video preprocessing\n",
        "\n",
        "# option 1 Adjust the frame rate to 5 FPS, and the total duration remains unchanged\n",
        "!ffmpeg -i \"/content/Pedestrian_Tracking/ultralytics/yolo/data/Kabukicho_240825.mov\" -r 5 \"/content/Pedestrian_Tracking/5fps/Kabukicho_240825_5fps.mp4\"\n",
        "\n",
        "\n",
        "# NOT WORKING YET!!\n",
        "# # option 2 function: subsample/time lapse video\n",
        "# def subsample_video(input_path, output_path, time_lapse_interval):\n",
        "#     cap = cv2.VideoCapture(input_path)\n",
        "#     if not cap.isOpened():\n",
        "#         print(\"Error: Couldn't open video file.\")\n",
        "#         return\n",
        "\n",
        "#     frame_count = 0\n",
        "#     fps = cap.get(cv2.CAP_PROP_FPS)\n",
        "#     width = int(cap.get(cv2.CAP_PROP_FRAME_WIDTH))\n",
        "#     height = int(cap.get(cv2.CAP_PROP_FRAME_HEIGHT))\n",
        "#     codec = cv2.VideoWriter_fourcc(*'XVID')\n",
        "#     out = cv2.VideoWriter(output_path, codec, fps, (width, height))\n",
        "\n",
        "#     while cap.isOpened():\n",
        "#         ret, frame = cap.read()\n",
        "#         if not ret:\n",
        "#             break\n",
        "\n",
        "#         # Collect one frame out of every xx frames\n",
        "#         if frame_count % time_lapse_interval == 0:\n",
        "#             out.write(frame)\n",
        "\n",
        "#         frame_count += 1\n",
        "\n",
        "#     cap.release()\n",
        "#     out.release()\n",
        "#     #cv2.destroyAllWindows()\n",
        "\n",
        "# if __name__ == \"__main__\":\n",
        "#     time_lapse_interval = 5 # change here\n",
        "#     input_file = video_path\n",
        "#     output_file = f\"/content/Pedestrian_Tracking/timelapsed/{file_name}_timelapsed{time_lapse_interval}.mp4\"  # Replace with desired output video file path\n",
        "#     subsample_video(input_file, output_file, time_lapse_interval)\n",
        "#     print(f\"saved to {output_file}\")"
      ]
    },
    {
      "cell_type": "code",
      "execution_count": 27,
      "metadata": {
        "colab": {
          "base_uri": "https://localhost:8080/"
        },
        "id": "hPVqz76M53XS",
        "outputId": "ab73f20d-1fbd-44af-c096-4f0b61a131e9"
      },
      "outputs": [
        {
          "output_type": "stream",
          "name": "stdout",
          "text": [
            "/content/Pedestrian_Tracking/5fps/Kabukicho_240825_5fps.mp4\n",
            "Kabukicho_240825_5fps\n"
          ]
        }
      ],
      "source": [
        "video_path = \"/content/Pedestrian_Tracking/5fps/Kabukicho_240825_5fps.mp4\"\n",
        "file_name = os.path.splitext(os.path.basename(video_path))[0]\n",
        "\n",
        "print(video_path)\n",
        "print(file_name)"
      ]
    },
    {
      "cell_type": "code",
      "execution_count": 28,
      "metadata": {
        "colab": {
          "base_uri": "https://localhost:8080/"
        },
        "id": "BP0rxfdL53XT",
        "outputId": "366b5752-6bb0-4d33-9a72-f96d2de75628"
      },
      "outputs": [
        {
          "output_type": "stream",
          "name": "stdout",
          "text": [
            "The total number of frames in the video：364\n",
            "Video frame rate：5.0\n"
          ]
        }
      ],
      "source": [
        "# number of frames in the video\n",
        "cap = cv2.VideoCapture(video_path)\n",
        "\n",
        "# Get the file name\n",
        "file_name = os.path.splitext(os.path.basename(video_path))[0]\n",
        "\n",
        "# Get the total number of frames of the video\n",
        "total_frames = int(cap.get(cv2.CAP_PROP_FRAME_COUNT))\n",
        "original_fps = cap.get(cv2.CAP_PROP_FPS)\n",
        "\n",
        "print(f\"The total number of frames in the video：{total_frames}\\nVideo frame rate：{original_fps}\")\n",
        "cap.release()"
      ]
    },
    {
      "cell_type": "markdown",
      "metadata": {
        "id": "i4-h2jwWDXU6"
      },
      "source": [
        "#### Moving to the Required Directory"
      ]
    },
    {
      "cell_type": "code",
      "execution_count": 30,
      "metadata": {
        "colab": {
          "base_uri": "https://localhost:8080/"
        },
        "id": "sWXs2RdKDnqB",
        "outputId": "1af1c6b1-4b58-4d60-f70e-d01d1669fb21"
      },
      "outputs": [
        {
          "output_type": "stream",
          "name": "stdout",
          "text": [
            "/content/Pedestrian_Tracking/ultralytics/yolo/v8/segment\n"
          ]
        }
      ],
      "source": [
        "%cd /content/Pedestrian_Tracking/ultralytics/yolo/v8/segment"
      ]
    },
    {
      "cell_type": "markdown",
      "source": [
        "#### To implement the DeepSORT tracking, downloading the required files (only needs to be done once at the beginnning of running the code)"
      ],
      "metadata": {
        "id": "U3AV4AN3B4_-"
      }
    },
    {
      "cell_type": "code",
      "source": [
        "!gdown \"https://drive.google.com/uc?id=11ZSZcG-bcbueXZC3rN08CM0qqX3eiHxf&confirm=t\""
      ],
      "metadata": {
        "id": "gvj91LvMB3jn",
        "outputId": "4e7ea64b-c12f-45cb-c39b-7f1a41ea7e44",
        "colab": {
          "base_uri": "https://localhost:8080/"
        }
      },
      "execution_count": 12,
      "outputs": [
        {
          "output_type": "stream",
          "name": "stdout",
          "text": [
            "Downloading...\n",
            "From: https://drive.google.com/uc?id=11ZSZcG-bcbueXZC3rN08CM0qqX3eiHxf&confirm=t\n",
            "To: /content/Pedestrian_Tracking/ultralytics/yolo/v8/segment/deep_sort_pytorch.zip\n",
            "100% 43.1M/43.1M [00:00<00:00, 62.1MB/s]\n"
          ]
        }
      ]
    },
    {
      "cell_type": "code",
      "source": [
        "!unzip 'deep_sort_pytorch.zip'"
      ],
      "metadata": {
        "id": "qb7IIv0YB60c",
        "outputId": "e88bce36-802d-4ef4-b15d-76eab216695a",
        "colab": {
          "base_uri": "https://localhost:8080/"
        }
      },
      "execution_count": 13,
      "outputs": [
        {
          "output_type": "stream",
          "name": "stdout",
          "text": [
            "Archive:  deep_sort_pytorch.zip\n",
            "  inflating: deep_sort_pytorch/.gitignore  \n",
            "   creating: deep_sort_pytorch/configs/\n",
            "  inflating: deep_sort_pytorch/configs/deep_sort.yaml  \n",
            "   creating: deep_sort_pytorch/deep_sort/\n",
            "  inflating: deep_sort_pytorch/deep_sort/__init__.py  \n",
            "   creating: deep_sort_pytorch/deep_sort/__pycache__/\n",
            "  inflating: deep_sort_pytorch/deep_sort/__pycache__/__init__.cpython-310.pyc  \n",
            "  inflating: deep_sort_pytorch/deep_sort/__pycache__/__init__.cpython-37.pyc  \n",
            "  inflating: deep_sort_pytorch/deep_sort/__pycache__/__init__.cpython-38.pyc  \n",
            "  inflating: deep_sort_pytorch/deep_sort/__pycache__/deep_sort.cpython-310.pyc  \n",
            "  inflating: deep_sort_pytorch/deep_sort/__pycache__/deep_sort.cpython-37.pyc  \n",
            "  inflating: deep_sort_pytorch/deep_sort/__pycache__/deep_sort.cpython-38.pyc  \n",
            "   creating: deep_sort_pytorch/deep_sort/deep/\n",
            " extracting: deep_sort_pytorch/deep_sort/deep/__init__.py  \n",
            "   creating: deep_sort_pytorch/deep_sort/deep/__pycache__/\n",
            "  inflating: deep_sort_pytorch/deep_sort/deep/__pycache__/__init__.cpython-310.pyc  \n",
            "  inflating: deep_sort_pytorch/deep_sort/deep/__pycache__/__init__.cpython-37.pyc  \n",
            "  inflating: deep_sort_pytorch/deep_sort/deep/__pycache__/__init__.cpython-38.pyc  \n",
            "  inflating: deep_sort_pytorch/deep_sort/deep/__pycache__/feature_extractor.cpython-310.pyc  \n",
            "  inflating: deep_sort_pytorch/deep_sort/deep/__pycache__/feature_extractor.cpython-37.pyc  \n",
            "  inflating: deep_sort_pytorch/deep_sort/deep/__pycache__/feature_extractor.cpython-38.pyc  \n",
            "  inflating: deep_sort_pytorch/deep_sort/deep/__pycache__/model.cpython-310.pyc  \n",
            "  inflating: deep_sort_pytorch/deep_sort/deep/__pycache__/model.cpython-37.pyc  \n",
            "  inflating: deep_sort_pytorch/deep_sort/deep/__pycache__/model.cpython-38.pyc  \n",
            "   creating: deep_sort_pytorch/deep_sort/deep/checkpoint/\n",
            " extracting: deep_sort_pytorch/deep_sort/deep/checkpoint/.gitkeep  \n",
            "  inflating: deep_sort_pytorch/deep_sort/deep/checkpoint/ckpt.t7  \n",
            "  inflating: deep_sort_pytorch/deep_sort/deep/evaluate.py  \n",
            "  inflating: deep_sort_pytorch/deep_sort/deep/feature_extractor.py  \n",
            "  inflating: deep_sort_pytorch/deep_sort/deep/model.py  \n",
            "  inflating: deep_sort_pytorch/deep_sort/deep/original_model.py  \n",
            "  inflating: deep_sort_pytorch/deep_sort/deep/test.py  \n",
            "  inflating: deep_sort_pytorch/deep_sort/deep/train.jpg  \n",
            "  inflating: deep_sort_pytorch/deep_sort/deep/train.py  \n",
            "  inflating: deep_sort_pytorch/deep_sort/deep_sort.py  \n",
            "  inflating: deep_sort_pytorch/deep_sort/README.md  \n",
            "   creating: deep_sort_pytorch/deep_sort/sort - Copy/\n",
            " extracting: deep_sort_pytorch/deep_sort/sort - Copy/__init__.py  \n",
            "   creating: deep_sort_pytorch/deep_sort/sort - Copy/__pycache__/\n",
            "  inflating: deep_sort_pytorch/deep_sort/sort - Copy/__pycache__/__init__.cpython-37.pyc  \n",
            "  inflating: deep_sort_pytorch/deep_sort/sort - Copy/__pycache__/__init__.cpython-38.pyc  \n",
            "  inflating: deep_sort_pytorch/deep_sort/sort - Copy/__pycache__/detection.cpython-37.pyc  \n",
            "  inflating: deep_sort_pytorch/deep_sort/sort - Copy/__pycache__/detection.cpython-38.pyc  \n",
            "  inflating: deep_sort_pytorch/deep_sort/sort - Copy/__pycache__/iou_matching.cpython-37.pyc  \n",
            "  inflating: deep_sort_pytorch/deep_sort/sort - Copy/__pycache__/iou_matching.cpython-38.pyc  \n",
            "  inflating: deep_sort_pytorch/deep_sort/sort - Copy/__pycache__/kalman_filter.cpython-37.pyc  \n",
            "  inflating: deep_sort_pytorch/deep_sort/sort - Copy/__pycache__/kalman_filter.cpython-38.pyc  \n",
            "  inflating: deep_sort_pytorch/deep_sort/sort - Copy/__pycache__/linear_assignment.cpython-37.pyc  \n",
            "  inflating: deep_sort_pytorch/deep_sort/sort - Copy/__pycache__/linear_assignment.cpython-38.pyc  \n",
            "  inflating: deep_sort_pytorch/deep_sort/sort - Copy/__pycache__/nn_matching.cpython-37.pyc  \n",
            "  inflating: deep_sort_pytorch/deep_sort/sort - Copy/__pycache__/nn_matching.cpython-38.pyc  \n",
            "  inflating: deep_sort_pytorch/deep_sort/sort - Copy/__pycache__/track.cpython-37.pyc  \n",
            "  inflating: deep_sort_pytorch/deep_sort/sort - Copy/__pycache__/track.cpython-38.pyc  \n",
            "  inflating: deep_sort_pytorch/deep_sort/sort - Copy/__pycache__/tracker.cpython-37.pyc  \n",
            "  inflating: deep_sort_pytorch/deep_sort/sort - Copy/__pycache__/tracker.cpython-38.pyc  \n",
            "  inflating: deep_sort_pytorch/deep_sort/sort - Copy/iou_matching.py  \n",
            "  inflating: deep_sort_pytorch/deep_sort/sort - Copy/kalman_filter.py  \n",
            "  inflating: deep_sort_pytorch/deep_sort/sort - Copy/linear_assignment.py  \n",
            "  inflating: deep_sort_pytorch/deep_sort/sort - Copy/nn_matching.py  \n",
            "  inflating: deep_sort_pytorch/deep_sort/sort - Copy/preprocessing.py  \n",
            "   creating: deep_sort_pytorch/deep_sort/sort/\n",
            " extracting: deep_sort_pytorch/deep_sort/sort/__init__.py  \n",
            "   creating: deep_sort_pytorch/deep_sort/sort/__pycache__/\n",
            "  inflating: deep_sort_pytorch/deep_sort/sort/__pycache__/__init__.cpython-310.pyc  \n",
            "  inflating: deep_sort_pytorch/deep_sort/sort/__pycache__/__init__.cpython-37.pyc  \n",
            "  inflating: deep_sort_pytorch/deep_sort/sort/__pycache__/__init__.cpython-38.pyc  \n",
            "  inflating: deep_sort_pytorch/deep_sort/sort/__pycache__/detection.cpython-310.pyc  \n",
            "  inflating: deep_sort_pytorch/deep_sort/sort/__pycache__/detection.cpython-37.pyc  \n",
            "  inflating: deep_sort_pytorch/deep_sort/sort/__pycache__/detection.cpython-38.pyc  \n",
            "  inflating: deep_sort_pytorch/deep_sort/sort/__pycache__/iou_matching.cpython-310.pyc  \n",
            "  inflating: deep_sort_pytorch/deep_sort/sort/__pycache__/iou_matching.cpython-37.pyc  \n",
            "  inflating: deep_sort_pytorch/deep_sort/sort/__pycache__/iou_matching.cpython-38.pyc  \n",
            "  inflating: deep_sort_pytorch/deep_sort/sort/__pycache__/kalman_filter.cpython-310.pyc  \n",
            "  inflating: deep_sort_pytorch/deep_sort/sort/__pycache__/kalman_filter.cpython-37.pyc  \n",
            "  inflating: deep_sort_pytorch/deep_sort/sort/__pycache__/kalman_filter.cpython-38.pyc  \n",
            "  inflating: deep_sort_pytorch/deep_sort/sort/__pycache__/linear_assignment.cpython-310.pyc  \n",
            "  inflating: deep_sort_pytorch/deep_sort/sort/__pycache__/linear_assignment.cpython-37.pyc  \n",
            "  inflating: deep_sort_pytorch/deep_sort/sort/__pycache__/linear_assignment.cpython-38.pyc  \n",
            "  inflating: deep_sort_pytorch/deep_sort/sort/__pycache__/nn_matching.cpython-310.pyc  \n",
            "  inflating: deep_sort_pytorch/deep_sort/sort/__pycache__/nn_matching.cpython-37.pyc  \n",
            "  inflating: deep_sort_pytorch/deep_sort/sort/__pycache__/nn_matching.cpython-38.pyc  \n",
            "  inflating: deep_sort_pytorch/deep_sort/sort/__pycache__/track.cpython-310.pyc  \n",
            "  inflating: deep_sort_pytorch/deep_sort/sort/__pycache__/track.cpython-37.pyc  \n",
            "  inflating: deep_sort_pytorch/deep_sort/sort/__pycache__/track.cpython-38.pyc  \n",
            "  inflating: deep_sort_pytorch/deep_sort/sort/__pycache__/tracker.cpython-310.pyc  \n",
            "  inflating: deep_sort_pytorch/deep_sort/sort/__pycache__/tracker.cpython-37.pyc  \n",
            "  inflating: deep_sort_pytorch/deep_sort/sort/__pycache__/tracker.cpython-38.pyc  \n",
            "  inflating: deep_sort_pytorch/deep_sort/sort/detection.py  \n",
            "  inflating: deep_sort_pytorch/deep_sort/sort/iou_matching.py  \n",
            "  inflating: deep_sort_pytorch/deep_sort/sort/kalman_filter.py  \n",
            "  inflating: deep_sort_pytorch/deep_sort/sort/linear_assignment.py  \n",
            "  inflating: deep_sort_pytorch/deep_sort/sort/nn_matching.py  \n",
            "  inflating: deep_sort_pytorch/deep_sort/sort/preprocessing.py  \n",
            "  inflating: deep_sort_pytorch/deep_sort/sort/track.py  \n",
            "  inflating: deep_sort_pytorch/deep_sort/sort/tracker.py  \n",
            "  inflating: deep_sort_pytorch/LICENSE  \n",
            "  inflating: deep_sort_pytorch/README.md  \n",
            "   creating: deep_sort_pytorch/utils/\n",
            " extracting: deep_sort_pytorch/utils/__init__.py  \n",
            "   creating: deep_sort_pytorch/utils/__pycache__/\n",
            "  inflating: deep_sort_pytorch/utils/__pycache__/__init__.cpython-310.pyc  \n",
            "  inflating: deep_sort_pytorch/utils/__pycache__/__init__.cpython-37.pyc  \n",
            "  inflating: deep_sort_pytorch/utils/__pycache__/__init__.cpython-38.pyc  \n",
            "  inflating: deep_sort_pytorch/utils/__pycache__/parser.cpython-310.pyc  \n",
            "  inflating: deep_sort_pytorch/utils/__pycache__/parser.cpython-37.pyc  \n",
            "  inflating: deep_sort_pytorch/utils/__pycache__/parser.cpython-38.pyc  \n",
            "  inflating: deep_sort_pytorch/utils/asserts.py  \n",
            "  inflating: deep_sort_pytorch/utils/draw.py  \n",
            "  inflating: deep_sort_pytorch/utils/evaluation.py  \n",
            "  inflating: deep_sort_pytorch/utils/io.py  \n",
            "  inflating: deep_sort_pytorch/utils/json_logger.py  \n",
            "  inflating: deep_sort_pytorch/utils/log.py  \n",
            "  inflating: deep_sort_pytorch/utils/parser.py  \n",
            "  inflating: deep_sort_pytorch/utils/tools.py  \n"
          ]
        }
      ]
    },
    {
      "cell_type": "markdown",
      "metadata": {
        "id": "xrxzHtFkElir"
      },
      "source": [
        "#### Run the Script for Segmentation with DeepSORT Tracking"
      ]
    },
    {
      "cell_type": "code",
      "source": [
        "print(video_path)"
      ],
      "metadata": {
        "id": "t1h94hlNLvrD",
        "outputId": "0fd588d9-f54a-4e72-918f-0bb9040bed7a",
        "colab": {
          "base_uri": "https://localhost:8080/"
        }
      },
      "execution_count": 33,
      "outputs": [
        {
          "output_type": "stream",
          "name": "stdout",
          "text": [
            "/content/Pedestrian_Tracking/5fps/Kabukicho_240825_5fps.mp4\n"
          ]
        }
      ]
    },
    {
      "cell_type": "code",
      "execution_count": 35,
      "metadata": {
        "colab": {
          "base_uri": "https://localhost:8080/"
        },
        "id": "Qesy8lPaEaXW",
        "outputId": "cf731e60-b3f0-4047-d5e9-768523cdbaeb"
      },
      "outputs": [
        {
          "output_type": "stream",
          "name": "stdout",
          "text": [
            "FutureWarning: You are using `torch.load` with `weights_only=False` (the current default value), which uses the default pickle module implicitly. It is possible to construct malicious pickle data which will execute arbitrary code during unpickling (See https://github.com/pytorch/pytorch/blob/main/SECURITY.md#untrusted-models for more details). In a future release, the default value for `weights_only` will be flipped to `True`. This limits the functions that could be executed during unpickling. Arbitrary objects will no longer be allowed to be loaded via this mode unless they are explicitly allowlisted by the user via `torch.serialization.add_safe_globals`. We recommend you start setting `weights_only=True` for any use case where you don't have full control of the loaded file. Please open an issue on GitHub for any issues related to this experimental feature.\n",
            "[2025-01-24 16:40:17,280][root.tracker][INFO] - Loading weights from deep_sort_pytorch/deep_sort/deep/checkpoint/ckpt.t7... Done!\n",
            "2025-01-24 16:40:17.580585: I tensorflow/core/util/port.cc:153] oneDNN custom operations are on. You may see slightly different numerical results due to floating-point round-off errors from different computation orders. To turn them off, set the environment variable `TF_ENABLE_ONEDNN_OPTS=0`.\n",
            "2025-01-24 16:40:17.596159: E external/local_xla/xla/stream_executor/cuda/cuda_fft.cc:485] Unable to register cuFFT factory: Attempting to register factory for plugin cuFFT when one has already been registered\n",
            "2025-01-24 16:40:17.617933: E external/local_xla/xla/stream_executor/cuda/cuda_dnn.cc:8454] Unable to register cuDNN factory: Attempting to register factory for plugin cuDNN when one has already been registered\n",
            "2025-01-24 16:40:17.623187: E external/local_xla/xla/stream_executor/cuda/cuda_blas.cc:1452] Unable to register cuBLAS factory: Attempting to register factory for plugin cuBLAS when one has already been registered\n",
            "2025-01-24 16:40:17.636129: I tensorflow/core/platform/cpu_feature_guard.cc:210] This TensorFlow binary is optimized to use available CPU instructions in performance-critical operations.\n",
            "To enable the following instructions: AVX2 AVX512F AVX512_VNNI FMA, in other operations, rebuild TensorFlow with the appropriate compiler flags.\n",
            "2025-01-24 16:40:19.052781: W tensorflow/compiler/tf2tensorrt/utils/py_utils.cc:38] TF-TRT Warning: Could not find TensorRT\n",
            "Ultralytics YOLOv8.0.3 🚀 Python-3.11.11 torch-2.5.1+cu121 CUDA:0 (NVIDIA A100-SXM4-40GB, 40514MiB)\n",
            "FutureWarning: You are using `torch.load` with `weights_only=False` (the current default value), which uses the default pickle module implicitly. It is possible to construct malicious pickle data which will execute arbitrary code during unpickling (See https://github.com/pytorch/pytorch/blob/main/SECURITY.md#untrusted-models for more details). In a future release, the default value for `weights_only` will be flipped to `True`. This limits the functions that could be executed during unpickling. Arbitrary objects will no longer be allowed to be loaded via this mode unless they are explicitly allowlisted by the user via `torch.serialization.add_safe_globals`. We recommend you start setting `weights_only=True` for any use case where you don't have full control of the loaded file. Please open an issue on GitHub for any issues related to this experimental feature.\n",
            "Fusing layers... \n",
            "YOLOv8x-seg summary: 295 layers, 71797696 parameters, 0 gradients, 344.1 GFLOPs\n",
            "WARNING ⚠️ NMS time limit 0.550s exceeded\n",
            "video 1/1 (1/364) /content/Pedestrian_Tracking/5fps/Kabukicho_240825_5fps.mp4: 416x640 7 persons, 1 umbrella, 2 handbags, 1 clock, 62.9ms\n",
            "video 1/1 (2/364) /content/Pedestrian_Tracking/5fps/Kabukicho_240825_5fps.mp4: 416x640 7 persons, 1 umbrella, 2 handbags, 1 clock, 12.3ms\n",
            "video 1/1 (3/364) /content/Pedestrian_Tracking/5fps/Kabukicho_240825_5fps.mp4: 416x640 8 persons, 1 umbrella, 5 handbags, 1 clock, 12.4ms\n",
            "video 1/1 (4/364) /content/Pedestrian_Tracking/5fps/Kabukicho_240825_5fps.mp4: 416x640 9 persons, 1 traffic light, 1 umbrella, 3 handbags, 1 clock, 12.8ms\n",
            "video 1/1 (5/364) /content/Pedestrian_Tracking/5fps/Kabukicho_240825_5fps.mp4: 416x640 9 persons, 1 umbrella, 3 handbags, 1 clock, 12.4ms\n",
            "video 1/1 (6/364) /content/Pedestrian_Tracking/5fps/Kabukicho_240825_5fps.mp4: 416x640 9 persons, 1 car, 1 umbrella, 4 handbags, 1 clock, 12.4ms\n",
            "video 1/1 (7/364) /content/Pedestrian_Tracking/5fps/Kabukicho_240825_5fps.mp4: 416x640 8 persons, 1 umbrella, 6 handbags, 1 clock, 12.5ms\n",
            "video 1/1 (8/364) /content/Pedestrian_Tracking/5fps/Kabukicho_240825_5fps.mp4: 416x640 9 persons, 1 umbrella, 3 handbags, 1 clock, 17.5ms\n",
            "video 1/1 (9/364) /content/Pedestrian_Tracking/5fps/Kabukicho_240825_5fps.mp4: 416x640 9 persons, 1 umbrella, 4 handbags, 1 clock, 12.4ms\n",
            "video 1/1 (10/364) /content/Pedestrian_Tracking/5fps/Kabukicho_240825_5fps.mp4: 416x640 7 persons, 1 car, 1 umbrella, 4 handbags, 1 clock, 12.4ms\n",
            "video 1/1 (11/364) /content/Pedestrian_Tracking/5fps/Kabukicho_240825_5fps.mp4: 416x640 8 persons, 1 car, 1 umbrella, 3 handbags, 1 clock, 12.4ms\n",
            "video 1/1 (12/364) /content/Pedestrian_Tracking/5fps/Kabukicho_240825_5fps.mp4: 416x640 8 persons, 1 umbrella, 4 handbags, 1 clock, 12.4ms\n",
            "video 1/1 (13/364) /content/Pedestrian_Tracking/5fps/Kabukicho_240825_5fps.mp4: 416x640 8 persons, 1 umbrella, 3 handbags, 1 clock, 13.0ms\n",
            "video 1/1 (14/364) /content/Pedestrian_Tracking/5fps/Kabukicho_240825_5fps.mp4: 416x640 7 persons, 2 umbrellas, 4 handbags, 1 clock, 12.5ms\n",
            "video 1/1 (15/364) /content/Pedestrian_Tracking/5fps/Kabukicho_240825_5fps.mp4: 416x640 8 persons, 3 umbrellas, 4 handbags, 1 clock, 12.3ms\n",
            "video 1/1 (16/364) /content/Pedestrian_Tracking/5fps/Kabukicho_240825_5fps.mp4: 416x640 9 persons, 3 umbrellas, 3 handbags, 12.7ms\n",
            "video 1/1 (17/364) /content/Pedestrian_Tracking/5fps/Kabukicho_240825_5fps.mp4: 416x640 6 persons, 3 umbrellas, 2 handbags, 12.4ms\n",
            "video 1/1 (18/364) /content/Pedestrian_Tracking/5fps/Kabukicho_240825_5fps.mp4: 416x640 9 persons, 3 umbrellas, 2 handbags, 12.4ms\n",
            "video 1/1 (19/364) /content/Pedestrian_Tracking/5fps/Kabukicho_240825_5fps.mp4: 416x640 8 persons, 3 umbrellas, 3 handbags, 12.4ms\n",
            "video 1/1 (20/364) /content/Pedestrian_Tracking/5fps/Kabukicho_240825_5fps.mp4: 416x640 8 persons, 3 umbrellas, 4 handbags, 19.1ms\n",
            "video 1/1 (21/364) /content/Pedestrian_Tracking/5fps/Kabukicho_240825_5fps.mp4: 416x640 7 persons, 3 umbrellas, 4 handbags, 13.0ms\n",
            "video 1/1 (22/364) /content/Pedestrian_Tracking/5fps/Kabukicho_240825_5fps.mp4: 416x640 7 persons, 3 umbrellas, 4 handbags, 18.9ms\n",
            "video 1/1 (23/364) /content/Pedestrian_Tracking/5fps/Kabukicho_240825_5fps.mp4: 416x640 7 persons, 3 umbrellas, 4 handbags, 12.8ms\n",
            "video 1/1 (24/364) /content/Pedestrian_Tracking/5fps/Kabukicho_240825_5fps.mp4: 416x640 8 persons, 3 umbrellas, 3 handbags, 12.4ms\n",
            "video 1/1 (25/364) /content/Pedestrian_Tracking/5fps/Kabukicho_240825_5fps.mp4: 416x640 6 persons, 3 umbrellas, 3 handbags, 12.5ms\n",
            "video 1/1 (26/364) /content/Pedestrian_Tracking/5fps/Kabukicho_240825_5fps.mp4: 416x640 6 persons, 3 umbrellas, 3 handbags, 12.4ms\n",
            "video 1/1 (27/364) /content/Pedestrian_Tracking/5fps/Kabukicho_240825_5fps.mp4: 416x640 8 persons, 4 umbrellas, 3 handbags, 12.4ms\n",
            "video 1/1 (28/364) /content/Pedestrian_Tracking/5fps/Kabukicho_240825_5fps.mp4: 416x640 7 persons, 4 umbrellas, 3 handbags, 12.6ms\n",
            "video 1/1 (29/364) /content/Pedestrian_Tracking/5fps/Kabukicho_240825_5fps.mp4: 416x640 7 persons, 1 car, 3 umbrellas, 3 handbags, 13.0ms\n",
            "video 1/1 (30/364) /content/Pedestrian_Tracking/5fps/Kabukicho_240825_5fps.mp4: 416x640 8 persons, 1 car, 2 umbrellas, 5 handbags, 12.9ms\n",
            "video 1/1 (31/364) /content/Pedestrian_Tracking/5fps/Kabukicho_240825_5fps.mp4: 416x640 9 persons, 2 umbrellas, 4 handbags, 12.3ms\n",
            "video 1/1 (32/364) /content/Pedestrian_Tracking/5fps/Kabukicho_240825_5fps.mp4: 416x640 8 persons, 2 umbrellas, 4 handbags, 15.6ms\n",
            "video 1/1 (33/364) /content/Pedestrian_Tracking/5fps/Kabukicho_240825_5fps.mp4: 416x640 7 persons, 2 umbrellas, 3 handbags, 12.2ms\n",
            "video 1/1 (34/364) /content/Pedestrian_Tracking/5fps/Kabukicho_240825_5fps.mp4: 416x640 9 persons, 2 umbrellas, 3 handbags, 12.7ms\n",
            "video 1/1 (35/364) /content/Pedestrian_Tracking/5fps/Kabukicho_240825_5fps.mp4: 416x640 9 persons, 3 umbrellas, 3 handbags, 12.5ms\n",
            "video 1/1 (36/364) /content/Pedestrian_Tracking/5fps/Kabukicho_240825_5fps.mp4: 416x640 10 persons, 1 car, 2 umbrellas, 2 handbags, 12.4ms\n",
            "video 1/1 (37/364) /content/Pedestrian_Tracking/5fps/Kabukicho_240825_5fps.mp4: 416x640 8 persons, 1 truck, 3 umbrellas, 2 handbags, 12.5ms\n",
            "video 1/1 (38/364) /content/Pedestrian_Tracking/5fps/Kabukicho_240825_5fps.mp4: 416x640 8 persons, 2 cars, 3 umbrellas, 2 handbags, 13.0ms\n",
            "video 1/1 (39/364) /content/Pedestrian_Tracking/5fps/Kabukicho_240825_5fps.mp4: 416x640 7 persons, 2 umbrellas, 3 handbags, 12.3ms\n",
            "video 1/1 (40/364) /content/Pedestrian_Tracking/5fps/Kabukicho_240825_5fps.mp4: 416x640 6 persons, 1 car, 3 umbrellas, 2 handbags, 12.3ms\n",
            "video 1/1 (41/364) /content/Pedestrian_Tracking/5fps/Kabukicho_240825_5fps.mp4: 416x640 6 persons, 3 umbrellas, 12.4ms\n",
            "video 1/1 (42/364) /content/Pedestrian_Tracking/5fps/Kabukicho_240825_5fps.mp4: 416x640 7 persons, 2 umbrellas, 1 handbag, 12.2ms\n",
            "video 1/1 (43/364) /content/Pedestrian_Tracking/5fps/Kabukicho_240825_5fps.mp4: 416x640 7 persons, 2 umbrellas, 2 handbags, 12.5ms\n",
            "video 1/1 (44/364) /content/Pedestrian_Tracking/5fps/Kabukicho_240825_5fps.mp4: 416x640 8 persons, 2 umbrellas, 3 handbags, 12.2ms\n",
            "video 1/1 (45/364) /content/Pedestrian_Tracking/5fps/Kabukicho_240825_5fps.mp4: 416x640 6 persons, 2 umbrellas, 1 handbag, 12.8ms\n",
            "video 1/1 (46/364) /content/Pedestrian_Tracking/5fps/Kabukicho_240825_5fps.mp4: 416x640 4 persons, 1 car, 2 umbrellas, 2 handbags, 12.8ms\n",
            "video 1/1 (47/364) /content/Pedestrian_Tracking/5fps/Kabukicho_240825_5fps.mp4: 416x640 4 persons, 1 car, 2 umbrellas, 1 handbag, 13.1ms\n",
            "video 1/1 (48/364) /content/Pedestrian_Tracking/5fps/Kabukicho_240825_5fps.mp4: 416x640 5 persons, 1 car, 2 umbrellas, 1 handbag, 12.2ms\n",
            "video 1/1 (49/364) /content/Pedestrian_Tracking/5fps/Kabukicho_240825_5fps.mp4: 416x640 3 persons, 2 umbrellas, 2 handbags, 12.8ms\n",
            "video 1/1 (50/364) /content/Pedestrian_Tracking/5fps/Kabukicho_240825_5fps.mp4: 416x640 5 persons, 3 umbrellas, 1 handbag, 12.3ms\n",
            "video 1/1 (51/364) /content/Pedestrian_Tracking/5fps/Kabukicho_240825_5fps.mp4: 416x640 6 persons, 2 umbrellas, 1 handbag, 12.6ms\n",
            "video 1/1 (52/364) /content/Pedestrian_Tracking/5fps/Kabukicho_240825_5fps.mp4: 416x640 4 persons, 2 umbrellas, 12.3ms\n",
            "video 1/1 (53/364) /content/Pedestrian_Tracking/5fps/Kabukicho_240825_5fps.mp4: 416x640 8 persons, 1 umbrella, 12.6ms\n",
            "video 1/1 (54/364) /content/Pedestrian_Tracking/5fps/Kabukicho_240825_5fps.mp4: 416x640 7 persons, 2 umbrellas, 1 handbag, 12.1ms\n",
            "video 1/1 (55/364) /content/Pedestrian_Tracking/5fps/Kabukicho_240825_5fps.mp4: 416x640 9 persons, 3 umbrellas, 17.9ms\n",
            "video 1/1 (56/364) /content/Pedestrian_Tracking/5fps/Kabukicho_240825_5fps.mp4: 416x640 7 persons, 2 umbrellas, 12.3ms\n",
            "video 1/1 (57/364) /content/Pedestrian_Tracking/5fps/Kabukicho_240825_5fps.mp4: 416x640 7 persons, 2 umbrellas, 12.1ms\n",
            "video 1/1 (58/364) /content/Pedestrian_Tracking/5fps/Kabukicho_240825_5fps.mp4: 416x640 6 persons, 2 umbrellas, 12.0ms\n",
            "video 1/1 (59/364) /content/Pedestrian_Tracking/5fps/Kabukicho_240825_5fps.mp4: 416x640 6 persons, 2 umbrellas, 1 handbag, 12.8ms\n",
            "video 1/1 (60/364) /content/Pedestrian_Tracking/5fps/Kabukicho_240825_5fps.mp4: 416x640 8 persons, 3 umbrellas, 12.2ms\n",
            "video 1/1 (61/364) /content/Pedestrian_Tracking/5fps/Kabukicho_240825_5fps.mp4: 416x640 6 persons, 2 umbrellas, 12.3ms\n",
            "video 1/1 (62/364) /content/Pedestrian_Tracking/5fps/Kabukicho_240825_5fps.mp4: 416x640 8 persons, 2 umbrellas, 12.8ms\n",
            "video 1/1 (63/364) /content/Pedestrian_Tracking/5fps/Kabukicho_240825_5fps.mp4: 416x640 9 persons, 2 umbrellas, 12.2ms\n",
            "video 1/1 (64/364) /content/Pedestrian_Tracking/5fps/Kabukicho_240825_5fps.mp4: 416x640 8 persons, 2 umbrellas, 12.2ms\n",
            "video 1/1 (65/364) /content/Pedestrian_Tracking/5fps/Kabukicho_240825_5fps.mp4: 416x640 8 persons, 2 umbrellas, 12.5ms\n",
            "video 1/1 (66/364) /content/Pedestrian_Tracking/5fps/Kabukicho_240825_5fps.mp4: 416x640 9 persons, 2 umbrellas, 12.4ms\n",
            "video 1/1 (67/364) /content/Pedestrian_Tracking/5fps/Kabukicho_240825_5fps.mp4: 416x640 8 persons, 2 umbrellas, 12.1ms\n",
            "video 1/1 (68/364) /content/Pedestrian_Tracking/5fps/Kabukicho_240825_5fps.mp4: 416x640 6 persons, 2 umbrellas, 12.3ms\n",
            "video 1/1 (69/364) /content/Pedestrian_Tracking/5fps/Kabukicho_240825_5fps.mp4: 416x640 8 persons, 2 umbrellas, 12.1ms\n",
            "video 1/1 (70/364) /content/Pedestrian_Tracking/5fps/Kabukicho_240825_5fps.mp4: 416x640 6 persons, 2 umbrellas, 12.6ms\n",
            "video 1/1 (71/364) /content/Pedestrian_Tracking/5fps/Kabukicho_240825_5fps.mp4: 416x640 8 persons, 2 umbrellas, 13.1ms\n",
            "video 1/1 (72/364) /content/Pedestrian_Tracking/5fps/Kabukicho_240825_5fps.mp4: 416x640 7 persons, 2 umbrellas, 12.2ms\n",
            "video 1/1 (73/364) /content/Pedestrian_Tracking/5fps/Kabukicho_240825_5fps.mp4: 416x640 7 persons, 2 umbrellas, 12.5ms\n",
            "video 1/1 (74/364) /content/Pedestrian_Tracking/5fps/Kabukicho_240825_5fps.mp4: 416x640 7 persons, 2 umbrellas, 12.2ms\n",
            "video 1/1 (75/364) /content/Pedestrian_Tracking/5fps/Kabukicho_240825_5fps.mp4: 416x640 7 persons, 2 umbrellas, 12.5ms\n",
            "video 1/1 (76/364) /content/Pedestrian_Tracking/5fps/Kabukicho_240825_5fps.mp4: 416x640 8 persons, 2 umbrellas, 12.4ms\n",
            "video 1/1 (77/364) /content/Pedestrian_Tracking/5fps/Kabukicho_240825_5fps.mp4: 416x640 8 persons, 2 umbrellas, 12.3ms\n",
            "video 1/1 (78/364) /content/Pedestrian_Tracking/5fps/Kabukicho_240825_5fps.mp4: 416x640 7 persons, 1 umbrella, 12.6ms\n",
            "video 1/1 (79/364) /content/Pedestrian_Tracking/5fps/Kabukicho_240825_5fps.mp4: 416x640 6 persons, 2 umbrellas, 12.3ms\n",
            "video 1/1 (80/364) /content/Pedestrian_Tracking/5fps/Kabukicho_240825_5fps.mp4: 416x640 9 persons, 3 umbrellas, 12.7ms\n",
            "video 1/1 (81/364) /content/Pedestrian_Tracking/5fps/Kabukicho_240825_5fps.mp4: 416x640 6 persons, 3 umbrellas, 1 handbag, 12.3ms\n",
            "video 1/1 (82/364) /content/Pedestrian_Tracking/5fps/Kabukicho_240825_5fps.mp4: 416x640 8 persons, 3 umbrellas, 12.0ms\n",
            "video 1/1 (83/364) /content/Pedestrian_Tracking/5fps/Kabukicho_240825_5fps.mp4: 416x640 8 persons, 3 umbrellas, 12.3ms\n",
            "video 1/1 (84/364) /content/Pedestrian_Tracking/5fps/Kabukicho_240825_5fps.mp4: 416x640 11 persons, 1 bicycle, 2 umbrellas, 12.1ms\n",
            "video 1/1 (85/364) /content/Pedestrian_Tracking/5fps/Kabukicho_240825_5fps.mp4: 416x640 8 persons, 3 umbrellas, 1 handbag, 12.5ms\n",
            "video 1/1 (86/364) /content/Pedestrian_Tracking/5fps/Kabukicho_240825_5fps.mp4: 416x640 8 persons, 1 umbrella, 2 handbags, 12.1ms\n",
            "video 1/1 (87/364) /content/Pedestrian_Tracking/5fps/Kabukicho_240825_5fps.mp4: 416x640 7 persons, 1 umbrella, 1 handbag, 12.1ms\n",
            "video 1/1 (88/364) /content/Pedestrian_Tracking/5fps/Kabukicho_240825_5fps.mp4: 416x640 7 persons, 1 umbrella, 1 handbag, 12.8ms\n",
            "video 1/1 (89/364) /content/Pedestrian_Tracking/5fps/Kabukicho_240825_5fps.mp4: 416x640 7 persons, 1 handbag, 12.3ms\n",
            "video 1/1 (90/364) /content/Pedestrian_Tracking/5fps/Kabukicho_240825_5fps.mp4: 416x640 6 persons, 1 umbrella, 2 handbags, 14.0ms\n",
            "video 1/1 (91/364) /content/Pedestrian_Tracking/5fps/Kabukicho_240825_5fps.mp4: 416x640 5 persons, 1 umbrella, 2 handbags, 12.3ms\n",
            "video 1/1 (92/364) /content/Pedestrian_Tracking/5fps/Kabukicho_240825_5fps.mp4: 416x640 5 persons, 1 umbrella, 3 handbags, 12.7ms\n",
            "video 1/1 (93/364) /content/Pedestrian_Tracking/5fps/Kabukicho_240825_5fps.mp4: 416x640 6 persons, 2 umbrellas, 2 handbags, 12.2ms\n",
            "video 1/1 (94/364) /content/Pedestrian_Tracking/5fps/Kabukicho_240825_5fps.mp4: 416x640 7 persons, 2 handbags, 12.5ms\n",
            "video 1/1 (95/364) /content/Pedestrian_Tracking/5fps/Kabukicho_240825_5fps.mp4: 416x640 8 persons, 1 umbrella, 3 handbags, 12.3ms\n",
            "video 1/1 (96/364) /content/Pedestrian_Tracking/5fps/Kabukicho_240825_5fps.mp4: 416x640 6 persons, 1 umbrella, 2 handbags, 13.1ms\n",
            "video 1/1 (97/364) /content/Pedestrian_Tracking/5fps/Kabukicho_240825_5fps.mp4: 416x640 8 persons, 1 umbrella, 3 handbags, 12.2ms\n",
            "video 1/1 (98/364) /content/Pedestrian_Tracking/5fps/Kabukicho_240825_5fps.mp4: 416x640 7 persons, 1 umbrella, 2 handbags, 12.3ms\n",
            "video 1/1 (99/364) /content/Pedestrian_Tracking/5fps/Kabukicho_240825_5fps.mp4: 416x640 7 persons, 1 umbrella, 2 handbags, 12.4ms\n",
            "video 1/1 (100/364) /content/Pedestrian_Tracking/5fps/Kabukicho_240825_5fps.mp4: 416x640 7 persons, 1 umbrella, 3 handbags, 12.4ms\n",
            "video 1/1 (101/364) /content/Pedestrian_Tracking/5fps/Kabukicho_240825_5fps.mp4: 416x640 6 persons, 1 umbrella, 1 handbag, 12.3ms\n",
            "video 1/1 (102/364) /content/Pedestrian_Tracking/5fps/Kabukicho_240825_5fps.mp4: 416x640 5 persons, 1 umbrella, 2 handbags, 12.3ms\n",
            "video 1/1 (103/364) /content/Pedestrian_Tracking/5fps/Kabukicho_240825_5fps.mp4: 416x640 6 persons, 1 umbrella, 2 handbags, 12.2ms\n",
            "video 1/1 (104/364) /content/Pedestrian_Tracking/5fps/Kabukicho_240825_5fps.mp4: 416x640 7 persons, 2 umbrellas, 2 handbags, 12.2ms\n",
            "video 1/1 (105/364) /content/Pedestrian_Tracking/5fps/Kabukicho_240825_5fps.mp4: 416x640 6 persons, 1 umbrella, 2 handbags, 12.1ms\n",
            "video 1/1 (106/364) /content/Pedestrian_Tracking/5fps/Kabukicho_240825_5fps.mp4: 416x640 6 persons, 1 umbrella, 2 handbags, 12.1ms\n",
            "video 1/1 (107/364) /content/Pedestrian_Tracking/5fps/Kabukicho_240825_5fps.mp4: 416x640 4 persons, 1 backpack, 1 umbrella, 1 handbag, 12.4ms\n",
            "video 1/1 (108/364) /content/Pedestrian_Tracking/5fps/Kabukicho_240825_5fps.mp4: 416x640 6 persons, 1 umbrella, 2 handbags, 12.2ms\n",
            "video 1/1 (109/364) /content/Pedestrian_Tracking/5fps/Kabukicho_240825_5fps.mp4: 416x640 5 persons, 1 umbrella, 2 handbags, 12.6ms\n",
            "video 1/1 (110/364) /content/Pedestrian_Tracking/5fps/Kabukicho_240825_5fps.mp4: 416x640 7 persons, 1 umbrella, 2 handbags, 12.2ms\n",
            "video 1/1 (111/364) /content/Pedestrian_Tracking/5fps/Kabukicho_240825_5fps.mp4: 416x640 6 persons, 1 umbrella, 3 handbags, 12.9ms\n",
            "video 1/1 (112/364) /content/Pedestrian_Tracking/5fps/Kabukicho_240825_5fps.mp4: 416x640 8 persons, 1 umbrella, 2 handbags, 12.1ms\n",
            "video 1/1 (113/364) /content/Pedestrian_Tracking/5fps/Kabukicho_240825_5fps.mp4: 416x640 6 persons, 1 umbrella, 1 handbag, 12.1ms\n",
            "video 1/1 (114/364) /content/Pedestrian_Tracking/5fps/Kabukicho_240825_5fps.mp4: 416x640 9 persons, 1 umbrella, 2 handbags, 12.8ms\n",
            "video 1/1 (115/364) /content/Pedestrian_Tracking/5fps/Kabukicho_240825_5fps.mp4: 416x640 7 persons, 1 umbrella, 2 handbags, 12.1ms\n",
            "video 1/1 (116/364) /content/Pedestrian_Tracking/5fps/Kabukicho_240825_5fps.mp4: 416x640 7 persons, 1 umbrella, 2 handbags, 12.1ms\n",
            "video 1/1 (117/364) /content/Pedestrian_Tracking/5fps/Kabukicho_240825_5fps.mp4: 416x640 7 persons, 1 umbrella, 3 handbags, 12.2ms\n",
            "video 1/1 (118/364) /content/Pedestrian_Tracking/5fps/Kabukicho_240825_5fps.mp4: 416x640 8 persons, 1 umbrella, 2 handbags, 12.3ms\n",
            "video 1/1 (119/364) /content/Pedestrian_Tracking/5fps/Kabukicho_240825_5fps.mp4: 416x640 8 persons, 1 umbrella, 2 handbags, 12.4ms\n",
            "video 1/1 (120/364) /content/Pedestrian_Tracking/5fps/Kabukicho_240825_5fps.mp4: 416x640 8 persons, 1 bicycle, 1 umbrella, 3 handbags, 12.1ms\n",
            "video 1/1 (121/364) /content/Pedestrian_Tracking/5fps/Kabukicho_240825_5fps.mp4: 416x640 7 persons, 1 umbrella, 2 handbags, 12.3ms\n",
            "video 1/1 (122/364) /content/Pedestrian_Tracking/5fps/Kabukicho_240825_5fps.mp4: 416x640 9 persons, 1 umbrella, 3 handbags, 12.1ms\n",
            "video 1/1 (123/364) /content/Pedestrian_Tracking/5fps/Kabukicho_240825_5fps.mp4: 416x640 9 persons, 1 umbrella, 3 handbags, 12.1ms\n",
            "video 1/1 (124/364) /content/Pedestrian_Tracking/5fps/Kabukicho_240825_5fps.mp4: 416x640 8 persons, 1 umbrella, 4 handbags, 12.5ms\n",
            "video 1/1 (125/364) /content/Pedestrian_Tracking/5fps/Kabukicho_240825_5fps.mp4: 416x640 7 persons, 2 umbrellas, 2 handbags, 12.6ms\n",
            "video 1/1 (126/364) /content/Pedestrian_Tracking/5fps/Kabukicho_240825_5fps.mp4: 416x640 7 persons, 1 umbrella, 3 handbags, 12.0ms\n",
            "video 1/1 (127/364) /content/Pedestrian_Tracking/5fps/Kabukicho_240825_5fps.mp4: 416x640 10 persons, 1 umbrella, 2 handbags, 12.0ms\n",
            "video 1/1 (128/364) /content/Pedestrian_Tracking/5fps/Kabukicho_240825_5fps.mp4: 416x640 10 persons, 1 umbrella, 1 handbag, 12.0ms\n",
            "video 1/1 (129/364) /content/Pedestrian_Tracking/5fps/Kabukicho_240825_5fps.mp4: 416x640 10 persons, 2 umbrellas, 3 handbags, 12.0ms\n",
            "video 1/1 (130/364) /content/Pedestrian_Tracking/5fps/Kabukicho_240825_5fps.mp4: 416x640 11 persons, 2 umbrellas, 1 handbag, 12.2ms\n",
            "video 1/1 (131/364) /content/Pedestrian_Tracking/5fps/Kabukicho_240825_5fps.mp4: 416x640 10 persons, 2 umbrellas, 1 handbag, 12.0ms\n",
            "video 1/1 (132/364) /content/Pedestrian_Tracking/5fps/Kabukicho_240825_5fps.mp4: 416x640 9 persons, 2 umbrellas, 1 handbag, 12.5ms\n",
            "video 1/1 (133/364) /content/Pedestrian_Tracking/5fps/Kabukicho_240825_5fps.mp4: 416x640 11 persons, 1 umbrella, 2 handbags, 18.3ms\n",
            "video 1/1 (134/364) /content/Pedestrian_Tracking/5fps/Kabukicho_240825_5fps.mp4: 416x640 10 persons, 1 umbrella, 4 handbags, 12.0ms\n",
            "video 1/1 (135/364) /content/Pedestrian_Tracking/5fps/Kabukicho_240825_5fps.mp4: 416x640 13 persons, 2 umbrellas, 2 handbags, 12.0ms\n",
            "video 1/1 (136/364) /content/Pedestrian_Tracking/5fps/Kabukicho_240825_5fps.mp4: 416x640 11 persons, 2 umbrellas, 1 handbag, 12.2ms\n",
            "video 1/1 (137/364) /content/Pedestrian_Tracking/5fps/Kabukicho_240825_5fps.mp4: 416x640 9 persons, 2 umbrellas, 12.1ms\n",
            "video 1/1 (138/364) /content/Pedestrian_Tracking/5fps/Kabukicho_240825_5fps.mp4: 416x640 12 persons, 2 umbrellas, 1 handbag, 12.6ms\n",
            "video 1/1 (139/364) /content/Pedestrian_Tracking/5fps/Kabukicho_240825_5fps.mp4: 416x640 10 persons, 2 umbrellas, 12.3ms\n",
            "video 1/1 (140/364) /content/Pedestrian_Tracking/5fps/Kabukicho_240825_5fps.mp4: 416x640 9 persons, 2 umbrellas, 1 handbag, 12.8ms\n",
            "video 1/1 (141/364) /content/Pedestrian_Tracking/5fps/Kabukicho_240825_5fps.mp4: 416x640 12 persons, 2 umbrellas, 1 handbag, 12.4ms\n",
            "video 1/1 (142/364) /content/Pedestrian_Tracking/5fps/Kabukicho_240825_5fps.mp4: 416x640 11 persons, 2 umbrellas, 2 handbags, 12.0ms\n",
            "video 1/1 (143/364) /content/Pedestrian_Tracking/5fps/Kabukicho_240825_5fps.mp4: 416x640 11 persons, 3 umbrellas, 1 handbag, 12.1ms\n",
            "video 1/1 (144/364) /content/Pedestrian_Tracking/5fps/Kabukicho_240825_5fps.mp4: 416x640 11 persons, 2 umbrellas, 2 handbags, 12.1ms\n",
            "video 1/1 (145/364) /content/Pedestrian_Tracking/5fps/Kabukicho_240825_5fps.mp4: 416x640 10 persons, 2 umbrellas, 1 handbag, 12.0ms\n",
            "video 1/1 (146/364) /content/Pedestrian_Tracking/5fps/Kabukicho_240825_5fps.mp4: 416x640 11 persons, 1 backpack, 2 umbrellas, 3 handbags, 12.4ms\n",
            "video 1/1 (147/364) /content/Pedestrian_Tracking/5fps/Kabukicho_240825_5fps.mp4: 416x640 11 persons, 2 umbrellas, 1 handbag, 12.5ms\n",
            "video 1/1 (148/364) /content/Pedestrian_Tracking/5fps/Kabukicho_240825_5fps.mp4: 416x640 12 persons, 2 umbrellas, 1 handbag, 12.2ms\n",
            "video 1/1 (149/364) /content/Pedestrian_Tracking/5fps/Kabukicho_240825_5fps.mp4: 416x640 13 persons, 2 umbrellas, 1 handbag, 12.2ms\n",
            "video 1/1 (150/364) /content/Pedestrian_Tracking/5fps/Kabukicho_240825_5fps.mp4: 416x640 11 persons, 2 umbrellas, 2 handbags, 18.9ms\n",
            "video 1/1 (151/364) /content/Pedestrian_Tracking/5fps/Kabukicho_240825_5fps.mp4: 416x640 10 persons, 2 umbrellas, 1 handbag, 12.4ms\n",
            "video 1/1 (152/364) /content/Pedestrian_Tracking/5fps/Kabukicho_240825_5fps.mp4: 416x640 12 persons, 2 umbrellas, 1 handbag, 12.5ms\n",
            "video 1/1 (153/364) /content/Pedestrian_Tracking/5fps/Kabukicho_240825_5fps.mp4: 416x640 9 persons, 2 umbrellas, 1 handbag, 12.5ms\n",
            "video 1/1 (154/364) /content/Pedestrian_Tracking/5fps/Kabukicho_240825_5fps.mp4: 416x640 10 persons, 2 umbrellas, 1 handbag, 13.0ms\n",
            "video 1/1 (155/364) /content/Pedestrian_Tracking/5fps/Kabukicho_240825_5fps.mp4: 416x640 10 persons, 2 umbrellas, 2 handbags, 12.2ms\n",
            "video 1/1 (156/364) /content/Pedestrian_Tracking/5fps/Kabukicho_240825_5fps.mp4: 416x640 10 persons, 2 umbrellas, 2 handbags, 12.7ms\n",
            "video 1/1 (157/364) /content/Pedestrian_Tracking/5fps/Kabukicho_240825_5fps.mp4: 416x640 11 persons, 3 umbrellas, 2 handbags, 12.5ms\n",
            "video 1/1 (158/364) /content/Pedestrian_Tracking/5fps/Kabukicho_240825_5fps.mp4: 416x640 10 persons, 2 umbrellas, 2 handbags, 12.1ms\n",
            "video 1/1 (159/364) /content/Pedestrian_Tracking/5fps/Kabukicho_240825_5fps.mp4: 416x640 10 persons, 3 umbrellas, 2 handbags, 12.5ms\n",
            "video 1/1 (160/364) /content/Pedestrian_Tracking/5fps/Kabukicho_240825_5fps.mp4: 416x640 11 persons, 2 umbrellas, 3 handbags, 12.4ms\n",
            "video 1/1 (161/364) /content/Pedestrian_Tracking/5fps/Kabukicho_240825_5fps.mp4: 416x640 12 persons, 3 umbrellas, 4 handbags, 12.2ms\n",
            "video 1/1 (162/364) /content/Pedestrian_Tracking/5fps/Kabukicho_240825_5fps.mp4: 416x640 10 persons, 2 umbrellas, 2 handbags, 18.7ms\n",
            "video 1/1 (163/364) /content/Pedestrian_Tracking/5fps/Kabukicho_240825_5fps.mp4: 416x640 10 persons, 2 umbrellas, 3 handbags, 12.0ms\n",
            "video 1/1 (164/364) /content/Pedestrian_Tracking/5fps/Kabukicho_240825_5fps.mp4: 416x640 11 persons, 2 umbrellas, 2 handbags, 12.1ms\n",
            "video 1/1 (165/364) /content/Pedestrian_Tracking/5fps/Kabukicho_240825_5fps.mp4: 416x640 11 persons, 2 umbrellas, 2 handbags, 12.6ms\n",
            "video 1/1 (166/364) /content/Pedestrian_Tracking/5fps/Kabukicho_240825_5fps.mp4: 416x640 11 persons, 2 umbrellas, 2 handbags, 12.1ms\n",
            "video 1/1 (167/364) /content/Pedestrian_Tracking/5fps/Kabukicho_240825_5fps.mp4: 416x640 10 persons, 2 umbrellas, 2 handbags, 12.6ms\n",
            "video 1/1 (168/364) /content/Pedestrian_Tracking/5fps/Kabukicho_240825_5fps.mp4: 416x640 11 persons, 2 umbrellas, 2 handbags, 12.1ms\n",
            "video 1/1 (169/364) /content/Pedestrian_Tracking/5fps/Kabukicho_240825_5fps.mp4: 416x640 12 persons, 2 umbrellas, 2 handbags, 12.2ms\n",
            "video 1/1 (170/364) /content/Pedestrian_Tracking/5fps/Kabukicho_240825_5fps.mp4: 416x640 11 persons, 2 umbrellas, 2 handbags, 12.4ms\n",
            "video 1/1 (171/364) /content/Pedestrian_Tracking/5fps/Kabukicho_240825_5fps.mp4: 416x640 12 persons, 2 umbrellas, 2 handbags, 12.2ms\n",
            "video 1/1 (172/364) /content/Pedestrian_Tracking/5fps/Kabukicho_240825_5fps.mp4: 416x640 11 persons, 2 umbrellas, 2 handbags, 12.4ms\n",
            "video 1/1 (173/364) /content/Pedestrian_Tracking/5fps/Kabukicho_240825_5fps.mp4: 416x640 10 persons, 2 umbrellas, 1 handbag, 12.5ms\n",
            "video 1/1 (174/364) /content/Pedestrian_Tracking/5fps/Kabukicho_240825_5fps.mp4: 416x640 10 persons, 2 umbrellas, 1 handbag, 12.5ms\n",
            "video 1/1 (175/364) /content/Pedestrian_Tracking/5fps/Kabukicho_240825_5fps.mp4: 416x640 9 persons, 2 umbrellas, 1 handbag, 12.1ms\n",
            "video 1/1 (176/364) /content/Pedestrian_Tracking/5fps/Kabukicho_240825_5fps.mp4: 416x640 9 persons, 2 umbrellas, 1 handbag, 12.2ms\n",
            "video 1/1 (177/364) /content/Pedestrian_Tracking/5fps/Kabukicho_240825_5fps.mp4: 416x640 9 persons, 2 umbrellas, 1 handbag, 12.0ms\n",
            "video 1/1 (178/364) /content/Pedestrian_Tracking/5fps/Kabukicho_240825_5fps.mp4: 416x640 10 persons, 1 umbrella, 1 handbag, 12.3ms\n",
            "video 1/1 (179/364) /content/Pedestrian_Tracking/5fps/Kabukicho_240825_5fps.mp4: 416x640 8 persons, 2 umbrellas, 2 handbags, 12.1ms\n",
            "video 1/1 (180/364) /content/Pedestrian_Tracking/5fps/Kabukicho_240825_5fps.mp4: 416x640 9 persons, 2 umbrellas, 1 handbag, 12.0ms\n",
            "video 1/1 (181/364) /content/Pedestrian_Tracking/5fps/Kabukicho_240825_5fps.mp4: 416x640 12 persons, 2 umbrellas, 1 handbag, 18.7ms\n",
            "video 1/1 (182/364) /content/Pedestrian_Tracking/5fps/Kabukicho_240825_5fps.mp4: 416x640 12 persons, 3 umbrellas, 1 handbag, 12.1ms\n",
            "video 1/1 (183/364) /content/Pedestrian_Tracking/5fps/Kabukicho_240825_5fps.mp4: 416x640 11 persons, 3 umbrellas, 1 handbag, 12.1ms\n",
            "video 1/1 (184/364) /content/Pedestrian_Tracking/5fps/Kabukicho_240825_5fps.mp4: 416x640 12 persons, 2 umbrellas, 1 handbag, 12.7ms\n",
            "video 1/1 (185/364) /content/Pedestrian_Tracking/5fps/Kabukicho_240825_5fps.mp4: 416x640 13 persons, 2 umbrellas, 1 handbag, 12.2ms\n",
            "video 1/1 (186/364) /content/Pedestrian_Tracking/5fps/Kabukicho_240825_5fps.mp4: 416x640 12 persons, 1 bicycle, 2 umbrellas, 2 handbags, 12.2ms\n",
            "video 1/1 (187/364) /content/Pedestrian_Tracking/5fps/Kabukicho_240825_5fps.mp4: 416x640 12 persons, 1 bicycle, 3 umbrellas, 2 handbags, 12.2ms\n",
            "video 1/1 (188/364) /content/Pedestrian_Tracking/5fps/Kabukicho_240825_5fps.mp4: 416x640 11 persons, 1 bicycle, 2 umbrellas, 3 handbags, 13.1ms\n",
            "video 1/1 (189/364) /content/Pedestrian_Tracking/5fps/Kabukicho_240825_5fps.mp4: 416x640 11 persons, 1 bicycle, 3 umbrellas, 2 handbags, 12.3ms\n",
            "video 1/1 (190/364) /content/Pedestrian_Tracking/5fps/Kabukicho_240825_5fps.mp4: 416x640 10 persons, 1 bicycle, 3 umbrellas, 3 handbags, 12.2ms\n",
            "video 1/1 (191/364) /content/Pedestrian_Tracking/5fps/Kabukicho_240825_5fps.mp4: 416x640 11 persons, 1 bicycle, 2 umbrellas, 3 handbags, 12.1ms\n",
            "video 1/1 (192/364) /content/Pedestrian_Tracking/5fps/Kabukicho_240825_5fps.mp4: 416x640 13 persons, 1 bicycle, 2 umbrellas, 1 handbag, 12.1ms\n",
            "video 1/1 (193/364) /content/Pedestrian_Tracking/5fps/Kabukicho_240825_5fps.mp4: 416x640 13 persons, 1 bicycle, 3 umbrellas, 3 handbags, 13.5ms\n",
            "video 1/1 (194/364) /content/Pedestrian_Tracking/5fps/Kabukicho_240825_5fps.mp4: 416x640 12 persons, 1 bicycle, 1 backpack, 2 umbrellas, 2 handbags, 12.1ms\n",
            "video 1/1 (195/364) /content/Pedestrian_Tracking/5fps/Kabukicho_240825_5fps.mp4: 416x640 12 persons, 1 bicycle, 2 umbrellas, 2 handbags, 12.3ms\n",
            "video 1/1 (196/364) /content/Pedestrian_Tracking/5fps/Kabukicho_240825_5fps.mp4: 416x640 12 persons, 1 bicycle, 2 umbrellas, 2 handbags, 12.2ms\n",
            "video 1/1 (197/364) /content/Pedestrian_Tracking/5fps/Kabukicho_240825_5fps.mp4: 416x640 12 persons, 1 bicycle, 2 umbrellas, 3 handbags, 12.2ms\n",
            "video 1/1 (198/364) /content/Pedestrian_Tracking/5fps/Kabukicho_240825_5fps.mp4: 416x640 11 persons, 1 bicycle, 3 umbrellas, 3 handbags, 12.1ms\n",
            "video 1/1 (199/364) /content/Pedestrian_Tracking/5fps/Kabukicho_240825_5fps.mp4: 416x640 12 persons, 1 bicycle, 2 umbrellas, 2 handbags, 12.3ms\n",
            "video 1/1 (200/364) /content/Pedestrian_Tracking/5fps/Kabukicho_240825_5fps.mp4: 416x640 11 persons, 1 bicycle, 1 backpack, 2 umbrellas, 1 handbag, 12.4ms\n",
            "video 1/1 (201/364) /content/Pedestrian_Tracking/5fps/Kabukicho_240825_5fps.mp4: 416x640 12 persons, 1 bicycle, 1 backpack, 2 umbrellas, 1 handbag, 12.5ms\n",
            "video 1/1 (202/364) /content/Pedestrian_Tracking/5fps/Kabukicho_240825_5fps.mp4: 416x640 12 persons, 1 bicycle, 1 umbrella, 12.4ms\n",
            "video 1/1 (203/364) /content/Pedestrian_Tracking/5fps/Kabukicho_240825_5fps.mp4: 416x640 10 persons, 1 bicycle, 2 umbrellas, 1 handbag, 12.5ms\n",
            "video 1/1 (204/364) /content/Pedestrian_Tracking/5fps/Kabukicho_240825_5fps.mp4: 416x640 14 persons, 1 bicycle, 2 umbrellas, 1 handbag, 12.2ms\n",
            "video 1/1 (205/364) /content/Pedestrian_Tracking/5fps/Kabukicho_240825_5fps.mp4: 416x640 11 persons, 1 bicycle, 3 umbrellas, 1 handbag, 12.6ms\n",
            "video 1/1 (206/364) /content/Pedestrian_Tracking/5fps/Kabukicho_240825_5fps.mp4: 416x640 11 persons, 2 umbrellas, 12.7ms\n",
            "video 1/1 (207/364) /content/Pedestrian_Tracking/5fps/Kabukicho_240825_5fps.mp4: 416x640 10 persons, 3 umbrellas, 1 handbag, 12.5ms\n",
            "video 1/1 (208/364) /content/Pedestrian_Tracking/5fps/Kabukicho_240825_5fps.mp4: 416x640 10 persons, 2 umbrellas, 1 handbag, 12.4ms\n",
            "video 1/1 (209/364) /content/Pedestrian_Tracking/5fps/Kabukicho_240825_5fps.mp4: 416x640 11 persons, 2 umbrellas, 1 handbag, 14.6ms\n",
            "video 1/1 (210/364) /content/Pedestrian_Tracking/5fps/Kabukicho_240825_5fps.mp4: 416x640 10 persons, 2 umbrellas, 12.2ms\n",
            "video 1/1 (211/364) /content/Pedestrian_Tracking/5fps/Kabukicho_240825_5fps.mp4: 416x640 10 persons, 1 umbrella, 12.2ms\n",
            "video 1/1 (212/364) /content/Pedestrian_Tracking/5fps/Kabukicho_240825_5fps.mp4: 416x640 10 persons, 1 umbrella, 12.2ms\n",
            "video 1/1 (213/364) /content/Pedestrian_Tracking/5fps/Kabukicho_240825_5fps.mp4: 416x640 10 persons, 1 umbrella, 13.1ms\n",
            "video 1/1 (214/364) /content/Pedestrian_Tracking/5fps/Kabukicho_240825_5fps.mp4: 416x640 10 persons, 1 backpack, 1 umbrella, 1 handbag, 12.1ms\n",
            "video 1/1 (215/364) /content/Pedestrian_Tracking/5fps/Kabukicho_240825_5fps.mp4: 416x640 10 persons, 1 umbrella, 1 handbag, 12.2ms\n",
            "video 1/1 (216/364) /content/Pedestrian_Tracking/5fps/Kabukicho_240825_5fps.mp4: 416x640 10 persons, 1 umbrella, 1 handbag, 12.3ms\n",
            "video 1/1 (217/364) /content/Pedestrian_Tracking/5fps/Kabukicho_240825_5fps.mp4: 416x640 10 persons, 1 umbrella, 12.1ms\n",
            "video 1/1 (218/364) /content/Pedestrian_Tracking/5fps/Kabukicho_240825_5fps.mp4: 416x640 10 persons, 1 umbrella, 1 handbag, 12.3ms\n",
            "video 1/1 (219/364) /content/Pedestrian_Tracking/5fps/Kabukicho_240825_5fps.mp4: 416x640 10 persons, 2 umbrellas, 1 handbag, 12.4ms\n",
            "video 1/1 (220/364) /content/Pedestrian_Tracking/5fps/Kabukicho_240825_5fps.mp4: 416x640 9 persons, 2 umbrellas, 12.2ms\n",
            "video 1/1 (221/364) /content/Pedestrian_Tracking/5fps/Kabukicho_240825_5fps.mp4: 416x640 9 persons, 1 umbrella, 1 handbag, 12.4ms\n",
            "video 1/1 (222/364) /content/Pedestrian_Tracking/5fps/Kabukicho_240825_5fps.mp4: 416x640 9 persons, 12.3ms\n",
            "video 1/1 (223/364) /content/Pedestrian_Tracking/5fps/Kabukicho_240825_5fps.mp4: 416x640 9 persons, 12.3ms\n",
            "video 1/1 (224/364) /content/Pedestrian_Tracking/5fps/Kabukicho_240825_5fps.mp4: 416x640 9 persons, 19.2ms\n",
            "video 1/1 (225/364) /content/Pedestrian_Tracking/5fps/Kabukicho_240825_5fps.mp4: 416x640 9 persons, 12.2ms\n",
            "video 1/1 (226/364) /content/Pedestrian_Tracking/5fps/Kabukicho_240825_5fps.mp4: 416x640 9 persons, 1 handbag, 12.3ms\n",
            "video 1/1 (227/364) /content/Pedestrian_Tracking/5fps/Kabukicho_240825_5fps.mp4: 416x640 11 persons, 1 handbag, 12.5ms\n",
            "video 1/1 (228/364) /content/Pedestrian_Tracking/5fps/Kabukicho_240825_5fps.mp4: 416x640 9 persons, 12.3ms\n",
            "video 1/1 (229/364) /content/Pedestrian_Tracking/5fps/Kabukicho_240825_5fps.mp4: 416x640 9 persons, 1 handbag, 12.2ms\n",
            "video 1/1 (230/364) /content/Pedestrian_Tracking/5fps/Kabukicho_240825_5fps.mp4: 416x640 9 persons, 1 umbrella, 12.4ms\n",
            "video 1/1 (231/364) /content/Pedestrian_Tracking/5fps/Kabukicho_240825_5fps.mp4: 416x640 11 persons, 1 bicycle, 1 umbrella, 2 handbags, 12.8ms\n",
            "video 1/1 (232/364) /content/Pedestrian_Tracking/5fps/Kabukicho_240825_5fps.mp4: 416x640 9 persons, 2 umbrellas, 12.4ms\n",
            "video 1/1 (233/364) /content/Pedestrian_Tracking/5fps/Kabukicho_240825_5fps.mp4: 416x640 9 persons, 2 umbrellas, 1 handbag, 18.9ms\n",
            "video 1/1 (234/364) /content/Pedestrian_Tracking/5fps/Kabukicho_240825_5fps.mp4: 416x640 9 persons, 1 umbrella, 2 handbags, 12.3ms\n",
            "video 1/1 (235/364) /content/Pedestrian_Tracking/5fps/Kabukicho_240825_5fps.mp4: 416x640 10 persons, 2 umbrellas, 2 handbags, 12.7ms\n",
            "video 1/1 (236/364) /content/Pedestrian_Tracking/5fps/Kabukicho_240825_5fps.mp4: 416x640 10 persons, 3 umbrellas, 1 handbag, 12.2ms\n",
            "video 1/1 (237/364) /content/Pedestrian_Tracking/5fps/Kabukicho_240825_5fps.mp4: 416x640 9 persons, 3 umbrellas, 4 handbags, 12.2ms\n",
            "video 1/1 (238/364) /content/Pedestrian_Tracking/5fps/Kabukicho_240825_5fps.mp4: 416x640 10 persons, 3 umbrellas, 12.6ms\n",
            "video 1/1 (239/364) /content/Pedestrian_Tracking/5fps/Kabukicho_240825_5fps.mp4: 416x640 8 persons, 3 umbrellas, 12.9ms\n",
            "video 1/1 (240/364) /content/Pedestrian_Tracking/5fps/Kabukicho_240825_5fps.mp4: 416x640 12 persons, 1 bicycle, 2 umbrellas, 12.0ms\n",
            "video 1/1 (241/364) /content/Pedestrian_Tracking/5fps/Kabukicho_240825_5fps.mp4: 416x640 10 persons, 1 bicycle, 2 umbrellas, 1 handbag, 16.2ms\n",
            "video 1/1 (242/364) /content/Pedestrian_Tracking/5fps/Kabukicho_240825_5fps.mp4: 416x640 11 persons, 1 bicycle, 2 umbrellas, 2 handbags, 12.4ms\n",
            "video 1/1 (243/364) /content/Pedestrian_Tracking/5fps/Kabukicho_240825_5fps.mp4: 416x640 11 persons, 1 bicycle, 2 umbrellas, 3 handbags, 17.7ms\n",
            "video 1/1 (244/364) /content/Pedestrian_Tracking/5fps/Kabukicho_240825_5fps.mp4: 416x640 13 persons, 1 bicycle, 2 umbrellas, 16.5ms\n",
            "video 1/1 (245/364) /content/Pedestrian_Tracking/5fps/Kabukicho_240825_5fps.mp4: 416x640 13 persons, 1 bicycle, 2 umbrellas, 1 handbag, 12.2ms\n",
            "video 1/1 (246/364) /content/Pedestrian_Tracking/5fps/Kabukicho_240825_5fps.mp4: 416x640 13 persons, 1 bicycle, 2 umbrellas, 1 handbag, 12.3ms\n",
            "video 1/1 (247/364) /content/Pedestrian_Tracking/5fps/Kabukicho_240825_5fps.mp4: 416x640 14 persons, 1 bicycle, 2 umbrellas, 2 handbags, 12.1ms\n",
            "video 1/1 (248/364) /content/Pedestrian_Tracking/5fps/Kabukicho_240825_5fps.mp4: 416x640 13 persons, 1 bicycle, 2 umbrellas, 12.3ms\n",
            "video 1/1 (249/364) /content/Pedestrian_Tracking/5fps/Kabukicho_240825_5fps.mp4: 416x640 13 persons, 1 bicycle, 2 umbrellas, 2 handbags, 12.2ms\n",
            "video 1/1 (250/364) /content/Pedestrian_Tracking/5fps/Kabukicho_240825_5fps.mp4: 416x640 11 persons, 2 umbrellas, 3 handbags, 12.1ms\n",
            "video 1/1 (251/364) /content/Pedestrian_Tracking/5fps/Kabukicho_240825_5fps.mp4: 416x640 11 persons, 1 bicycle, 2 umbrellas, 5 handbags, 12.1ms\n",
            "video 1/1 (252/364) /content/Pedestrian_Tracking/5fps/Kabukicho_240825_5fps.mp4: 416x640 12 persons, 1 bicycle, 2 umbrellas, 3 handbags, 12.0ms\n",
            "video 1/1 (253/364) /content/Pedestrian_Tracking/5fps/Kabukicho_240825_5fps.mp4: 416x640 13 persons, 1 bicycle, 2 umbrellas, 2 handbags, 12.0ms\n",
            "video 1/1 (254/364) /content/Pedestrian_Tracking/5fps/Kabukicho_240825_5fps.mp4: 416x640 14 persons, 1 bicycle, 2 umbrellas, 5 handbags, 12.1ms\n",
            "video 1/1 (255/364) /content/Pedestrian_Tracking/5fps/Kabukicho_240825_5fps.mp4: 416x640 14 persons, 1 bicycle, 2 umbrellas, 3 handbags, 12.2ms\n",
            "video 1/1 (256/364) /content/Pedestrian_Tracking/5fps/Kabukicho_240825_5fps.mp4: 416x640 14 persons, 1 bicycle, 1 backpack, 2 umbrellas, 6 handbags, 12.0ms\n",
            "video 1/1 (257/364) /content/Pedestrian_Tracking/5fps/Kabukicho_240825_5fps.mp4: 416x640 14 persons, 1 bicycle, 2 umbrellas, 6 handbags, 12.0ms\n",
            "video 1/1 (258/364) /content/Pedestrian_Tracking/5fps/Kabukicho_240825_5fps.mp4: 416x640 14 persons, 1 bicycle, 1 backpack, 2 umbrellas, 4 handbags, 12.0ms\n",
            "video 1/1 (259/364) /content/Pedestrian_Tracking/5fps/Kabukicho_240825_5fps.mp4: 416x640 13 persons, 1 bicycle, 1 backpack, 3 umbrellas, 5 handbags, 12.3ms\n",
            "video 1/1 (260/364) /content/Pedestrian_Tracking/5fps/Kabukicho_240825_5fps.mp4: 416x640 14 persons, 1 bicycle, 2 backpacks, 3 umbrellas, 3 handbags, 12.3ms\n",
            "video 1/1 (261/364) /content/Pedestrian_Tracking/5fps/Kabukicho_240825_5fps.mp4: 416x640 14 persons, 1 bicycle, 3 backpacks, 3 umbrellas, 4 handbags, 12.1ms\n",
            "video 1/1 (262/364) /content/Pedestrian_Tracking/5fps/Kabukicho_240825_5fps.mp4: 416x640 14 persons, 1 bicycle, 2 backpacks, 3 umbrellas, 3 handbags, 13.1ms\n",
            "video 1/1 (263/364) /content/Pedestrian_Tracking/5fps/Kabukicho_240825_5fps.mp4: 416x640 13 persons, 2 umbrellas, 4 handbags, 12.0ms\n",
            "video 1/1 (264/364) /content/Pedestrian_Tracking/5fps/Kabukicho_240825_5fps.mp4: 416x640 12 persons, 1 backpack, 2 umbrellas, 1 handbag, 12.0ms\n",
            "video 1/1 (265/364) /content/Pedestrian_Tracking/5fps/Kabukicho_240825_5fps.mp4: 416x640 12 persons, 2 umbrellas, 2 handbags, 12.3ms\n",
            "video 1/1 (266/364) /content/Pedestrian_Tracking/5fps/Kabukicho_240825_5fps.mp4: 416x640 12 persons, 3 umbrellas, 3 handbags, 12.1ms\n",
            "video 1/1 (267/364) /content/Pedestrian_Tracking/5fps/Kabukicho_240825_5fps.mp4: 416x640 11 persons, 2 umbrellas, 3 handbags, 12.3ms\n",
            "video 1/1 (268/364) /content/Pedestrian_Tracking/5fps/Kabukicho_240825_5fps.mp4: 416x640 10 persons, 2 umbrellas, 4 handbags, 12.4ms\n",
            "video 1/1 (269/364) /content/Pedestrian_Tracking/5fps/Kabukicho_240825_5fps.mp4: 416x640 11 persons, 2 umbrellas, 2 handbags, 12.2ms\n",
            "video 1/1 (270/364) /content/Pedestrian_Tracking/5fps/Kabukicho_240825_5fps.mp4: 416x640 11 persons, 3 umbrellas, 2 handbags, 12.9ms\n",
            "video 1/1 (271/364) /content/Pedestrian_Tracking/5fps/Kabukicho_240825_5fps.mp4: 416x640 11 persons, 3 umbrellas, 3 handbags, 12.5ms\n",
            "video 1/1 (272/364) /content/Pedestrian_Tracking/5fps/Kabukicho_240825_5fps.mp4: 416x640 12 persons, 3 umbrellas, 2 handbags, 12.5ms\n",
            "video 1/1 (273/364) /content/Pedestrian_Tracking/5fps/Kabukicho_240825_5fps.mp4: 416x640 11 persons, 3 umbrellas, 2 handbags, 12.5ms\n",
            "video 1/1 (274/364) /content/Pedestrian_Tracking/5fps/Kabukicho_240825_5fps.mp4: 416x640 11 persons, 3 umbrellas, 3 handbags, 12.2ms\n",
            "video 1/1 (275/364) /content/Pedestrian_Tracking/5fps/Kabukicho_240825_5fps.mp4: 416x640 12 persons, 3 umbrellas, 2 handbags, 12.7ms\n",
            "video 1/1 (276/364) /content/Pedestrian_Tracking/5fps/Kabukicho_240825_5fps.mp4: 416x640 13 persons, 2 umbrellas, 1 handbag, 12.2ms\n",
            "video 1/1 (277/364) /content/Pedestrian_Tracking/5fps/Kabukicho_240825_5fps.mp4: 416x640 13 persons, 1 backpack, 2 umbrellas, 1 handbag, 12.9ms\n",
            "video 1/1 (278/364) /content/Pedestrian_Tracking/5fps/Kabukicho_240825_5fps.mp4: 416x640 11 persons, 1 backpack, 2 umbrellas, 2 handbags, 12.2ms\n",
            "video 1/1 (279/364) /content/Pedestrian_Tracking/5fps/Kabukicho_240825_5fps.mp4: 416x640 10 persons, 1 backpack, 2 umbrellas, 2 handbags, 12.3ms\n",
            "video 1/1 (280/364) /content/Pedestrian_Tracking/5fps/Kabukicho_240825_5fps.mp4: 416x640 11 persons, 2 umbrellas, 3 handbags, 19.1ms\n",
            "video 1/1 (281/364) /content/Pedestrian_Tracking/5fps/Kabukicho_240825_5fps.mp4: 416x640 10 persons, 1 backpack, 2 umbrellas, 3 handbags, 12.0ms\n",
            "video 1/1 (282/364) /content/Pedestrian_Tracking/5fps/Kabukicho_240825_5fps.mp4: 416x640 11 persons, 2 backpacks, 3 umbrellas, 2 handbags, 12.2ms\n",
            "video 1/1 (283/364) /content/Pedestrian_Tracking/5fps/Kabukicho_240825_5fps.mp4: 416x640 10 persons, 2 backpacks, 3 umbrellas, 1 handbag, 12.1ms\n",
            "video 1/1 (284/364) /content/Pedestrian_Tracking/5fps/Kabukicho_240825_5fps.mp4: 416x640 10 persons, 3 umbrellas, 4 handbags, 12.2ms\n",
            "video 1/1 (285/364) /content/Pedestrian_Tracking/5fps/Kabukicho_240825_5fps.mp4: 416x640 7 persons, 3 umbrellas, 2 handbags, 12.2ms\n",
            "video 1/1 (286/364) /content/Pedestrian_Tracking/5fps/Kabukicho_240825_5fps.mp4: 416x640 8 persons, 3 umbrellas, 1 handbag, 12.2ms\n",
            "video 1/1 (287/364) /content/Pedestrian_Tracking/5fps/Kabukicho_240825_5fps.mp4: 416x640 9 persons, 3 umbrellas, 3 handbags, 12.1ms\n",
            "video 1/1 (288/364) /content/Pedestrian_Tracking/5fps/Kabukicho_240825_5fps.mp4: 416x640 8 persons, 4 umbrellas, 4 handbags, 12.2ms\n",
            "video 1/1 (289/364) /content/Pedestrian_Tracking/5fps/Kabukicho_240825_5fps.mp4: 416x640 9 persons, 4 umbrellas, 1 handbag, 12.5ms\n",
            "video 1/1 (290/364) /content/Pedestrian_Tracking/5fps/Kabukicho_240825_5fps.mp4: 416x640 8 persons, 1 backpack, 4 umbrellas, 1 handbag, 12.2ms\n",
            "video 1/1 (291/364) /content/Pedestrian_Tracking/5fps/Kabukicho_240825_5fps.mp4: 416x640 10 persons, 4 umbrellas, 3 handbags, 12.2ms\n",
            "video 1/1 (292/364) /content/Pedestrian_Tracking/5fps/Kabukicho_240825_5fps.mp4: 416x640 8 persons, 1 backpack, 4 umbrellas, 3 handbags, 12.1ms\n",
            "video 1/1 (293/364) /content/Pedestrian_Tracking/5fps/Kabukicho_240825_5fps.mp4: 416x640 8 persons, 4 umbrellas, 4 handbags, 18.5ms\n",
            "video 1/1 (294/364) /content/Pedestrian_Tracking/5fps/Kabukicho_240825_5fps.mp4: 416x640 8 persons, 4 umbrellas, 2 handbags, 12.3ms\n",
            "video 1/1 (295/364) /content/Pedestrian_Tracking/5fps/Kabukicho_240825_5fps.mp4: 416x640 9 persons, 4 umbrellas, 1 handbag, 12.2ms\n",
            "video 1/1 (296/364) /content/Pedestrian_Tracking/5fps/Kabukicho_240825_5fps.mp4: 416x640 11 persons, 4 umbrellas, 3 handbags, 12.3ms\n",
            "video 1/1 (297/364) /content/Pedestrian_Tracking/5fps/Kabukicho_240825_5fps.mp4: 416x640 11 persons, 1 backpack, 4 umbrellas, 2 handbags, 12.2ms\n",
            "video 1/1 (298/364) /content/Pedestrian_Tracking/5fps/Kabukicho_240825_5fps.mp4: 416x640 11 persons, 3 umbrellas, 4 handbags, 12.3ms\n",
            "video 1/1 (299/364) /content/Pedestrian_Tracking/5fps/Kabukicho_240825_5fps.mp4: 416x640 12 persons, 3 umbrellas, 3 handbags, 12.2ms\n",
            "video 1/1 (300/364) /content/Pedestrian_Tracking/5fps/Kabukicho_240825_5fps.mp4: 416x640 12 persons, 3 umbrellas, 2 handbags, 18.8ms\n",
            "video 1/1 (301/364) /content/Pedestrian_Tracking/5fps/Kabukicho_240825_5fps.mp4: 416x640 12 persons, 4 umbrellas, 2 handbags, 12.2ms\n",
            "video 1/1 (302/364) /content/Pedestrian_Tracking/5fps/Kabukicho_240825_5fps.mp4: 416x640 14 persons, 5 umbrellas, 2 handbags, 12.0ms\n",
            "video 1/1 (303/364) /content/Pedestrian_Tracking/5fps/Kabukicho_240825_5fps.mp4: 416x640 13 persons, 5 umbrellas, 3 handbags, 12.4ms\n",
            "video 1/1 (304/364) /content/Pedestrian_Tracking/5fps/Kabukicho_240825_5fps.mp4: 416x640 12 persons, 4 umbrellas, 2 handbags, 12.3ms\n",
            "video 1/1 (305/364) /content/Pedestrian_Tracking/5fps/Kabukicho_240825_5fps.mp4: 416x640 13 persons, 1 bicycle, 1 backpack, 5 umbrellas, 2 handbags, 12.5ms\n",
            "video 1/1 (306/364) /content/Pedestrian_Tracking/5fps/Kabukicho_240825_5fps.mp4: 416x640 12 persons, 4 umbrellas, 4 handbags, 12.1ms\n",
            "video 1/1 (307/364) /content/Pedestrian_Tracking/5fps/Kabukicho_240825_5fps.mp4: 416x640 12 persons, 4 umbrellas, 3 handbags, 12.3ms\n",
            "video 1/1 (308/364) /content/Pedestrian_Tracking/5fps/Kabukicho_240825_5fps.mp4: 416x640 12 persons, 4 umbrellas, 3 handbags, 12.1ms\n",
            "video 1/1 (309/364) /content/Pedestrian_Tracking/5fps/Kabukicho_240825_5fps.mp4: 416x640 13 persons, 1 backpack, 4 umbrellas, 4 handbags, 18.8ms\n",
            "video 1/1 (310/364) /content/Pedestrian_Tracking/5fps/Kabukicho_240825_5fps.mp4: 416x640 14 persons, 1 backpack, 4 umbrellas, 4 handbags, 12.2ms\n",
            "video 1/1 (311/364) /content/Pedestrian_Tracking/5fps/Kabukicho_240825_5fps.mp4: 416x640 15 persons, 4 umbrellas, 2 handbags, 12.0ms\n",
            "video 1/1 (312/364) /content/Pedestrian_Tracking/5fps/Kabukicho_240825_5fps.mp4: 416x640 12 persons, 4 umbrellas, 4 handbags, 12.1ms\n",
            "video 1/1 (313/364) /content/Pedestrian_Tracking/5fps/Kabukicho_240825_5fps.mp4: 416x640 14 persons, 3 umbrellas, 1 handbag, 12.1ms\n",
            "video 1/1 (314/364) /content/Pedestrian_Tracking/5fps/Kabukicho_240825_5fps.mp4: 416x640 15 persons, 1 backpack, 4 umbrellas, 2 handbags, 12.2ms\n",
            "video 1/1 (315/364) /content/Pedestrian_Tracking/5fps/Kabukicho_240825_5fps.mp4: 416x640 15 persons, 4 umbrellas, 3 handbags, 12.2ms\n",
            "video 1/1 (316/364) /content/Pedestrian_Tracking/5fps/Kabukicho_240825_5fps.mp4: 416x640 14 persons, 1 backpack, 4 umbrellas, 2 handbags, 12.3ms\n",
            "video 1/1 (317/364) /content/Pedestrian_Tracking/5fps/Kabukicho_240825_5fps.mp4: 416x640 14 persons, 3 umbrellas, 5 handbags, 12.0ms\n",
            "video 1/1 (318/364) /content/Pedestrian_Tracking/5fps/Kabukicho_240825_5fps.mp4: 416x640 17 persons, 3 umbrellas, 3 handbags, 12.3ms\n",
            "video 1/1 (319/364) /content/Pedestrian_Tracking/5fps/Kabukicho_240825_5fps.mp4: 416x640 15 persons, 4 umbrellas, 2 handbags, 12.2ms\n",
            "video 1/1 (320/364) /content/Pedestrian_Tracking/5fps/Kabukicho_240825_5fps.mp4: 416x640 17 persons, 4 umbrellas, 3 handbags, 12.3ms\n",
            "video 1/1 (321/364) /content/Pedestrian_Tracking/5fps/Kabukicho_240825_5fps.mp4: 416x640 13 persons, 3 umbrellas, 2 handbags, 12.1ms\n",
            "video 1/1 (322/364) /content/Pedestrian_Tracking/5fps/Kabukicho_240825_5fps.mp4: 416x640 10 persons, 4 umbrellas, 3 handbags, 12.1ms\n",
            "video 1/1 (323/364) /content/Pedestrian_Tracking/5fps/Kabukicho_240825_5fps.mp4: 416x640 11 persons, 4 umbrellas, 2 handbags, 12.1ms\n",
            "video 1/1 (324/364) /content/Pedestrian_Tracking/5fps/Kabukicho_240825_5fps.mp4: 416x640 11 persons, 1 backpack, 4 umbrellas, 7 handbags, 12.4ms\n",
            "video 1/1 (325/364) /content/Pedestrian_Tracking/5fps/Kabukicho_240825_5fps.mp4: 416x640 14 persons, 1 backpack, 4 umbrellas, 6 handbags, 12.7ms\n",
            "video 1/1 (326/364) /content/Pedestrian_Tracking/5fps/Kabukicho_240825_5fps.mp4: 416x640 11 persons, 4 umbrellas, 4 handbags, 12.3ms\n",
            "video 1/1 (327/364) /content/Pedestrian_Tracking/5fps/Kabukicho_240825_5fps.mp4: 416x640 13 persons, 4 umbrellas, 4 handbags, 12.0ms\n",
            "video 1/1 (328/364) /content/Pedestrian_Tracking/5fps/Kabukicho_240825_5fps.mp4: 416x640 12 persons, 1 backpack, 3 umbrellas, 7 handbags, 19.2ms\n",
            "video 1/1 (329/364) /content/Pedestrian_Tracking/5fps/Kabukicho_240825_5fps.mp4: 416x640 13 persons, 1 backpack, 3 umbrellas, 5 handbags, 12.1ms\n",
            "video 1/1 (330/364) /content/Pedestrian_Tracking/5fps/Kabukicho_240825_5fps.mp4: 416x640 13 persons, 1 backpack, 4 umbrellas, 4 handbags, 12.8ms\n",
            "video 1/1 (331/364) /content/Pedestrian_Tracking/5fps/Kabukicho_240825_5fps.mp4: 416x640 13 persons, 1 backpack, 4 umbrellas, 5 handbags, 11.9ms\n",
            "video 1/1 (332/364) /content/Pedestrian_Tracking/5fps/Kabukicho_240825_5fps.mp4: 416x640 12 persons, 1 backpack, 3 umbrellas, 7 handbags, 12.3ms\n",
            "video 1/1 (333/364) /content/Pedestrian_Tracking/5fps/Kabukicho_240825_5fps.mp4: 416x640 12 persons, 3 umbrellas, 5 handbags, 12.1ms\n",
            "video 1/1 (334/364) /content/Pedestrian_Tracking/5fps/Kabukicho_240825_5fps.mp4: 416x640 12 persons, 3 umbrellas, 5 handbags, 12.1ms\n",
            "video 1/1 (335/364) /content/Pedestrian_Tracking/5fps/Kabukicho_240825_5fps.mp4: 416x640 11 persons, 3 umbrellas, 5 handbags, 12.1ms\n",
            "video 1/1 (336/364) /content/Pedestrian_Tracking/5fps/Kabukicho_240825_5fps.mp4: 416x640 11 persons, 3 umbrellas, 6 handbags, 12.2ms\n",
            "video 1/1 (337/364) /content/Pedestrian_Tracking/5fps/Kabukicho_240825_5fps.mp4: 416x640 12 persons, 4 umbrellas, 4 handbags, 12.3ms\n",
            "video 1/1 (338/364) /content/Pedestrian_Tracking/5fps/Kabukicho_240825_5fps.mp4: 416x640 12 persons, 1 backpack, 4 umbrellas, 4 handbags, 12.3ms\n",
            "video 1/1 (339/364) /content/Pedestrian_Tracking/5fps/Kabukicho_240825_5fps.mp4: 416x640 11 persons, 1 backpack, 4 umbrellas, 6 handbags, 12.1ms\n",
            "video 1/1 (340/364) /content/Pedestrian_Tracking/5fps/Kabukicho_240825_5fps.mp4: 416x640 12 persons, 3 umbrellas, 1 handbag, 18.6ms\n",
            "video 1/1 (341/364) /content/Pedestrian_Tracking/5fps/Kabukicho_240825_5fps.mp4: 416x640 12 persons, 3 umbrellas, 3 handbags, 12.2ms\n",
            "video 1/1 (342/364) /content/Pedestrian_Tracking/5fps/Kabukicho_240825_5fps.mp4: 416x640 11 persons, 3 umbrellas, 2 handbags, 12.3ms\n",
            "video 1/1 (343/364) /content/Pedestrian_Tracking/5fps/Kabukicho_240825_5fps.mp4: 416x640 10 persons, 4 umbrellas, 4 handbags, 12.5ms\n",
            "video 1/1 (344/364) /content/Pedestrian_Tracking/5fps/Kabukicho_240825_5fps.mp4: 416x640 13 persons, 3 umbrellas, 4 handbags, 12.1ms\n",
            "video 1/1 (345/364) /content/Pedestrian_Tracking/5fps/Kabukicho_240825_5fps.mp4: 416x640 13 persons, 4 umbrellas, 4 handbags, 12.1ms\n",
            "video 1/1 (346/364) /content/Pedestrian_Tracking/5fps/Kabukicho_240825_5fps.mp4: 416x640 12 persons, 5 umbrellas, 6 handbags, 12.2ms\n",
            "video 1/1 (347/364) /content/Pedestrian_Tracking/5fps/Kabukicho_240825_5fps.mp4: 416x640 14 persons, 4 umbrellas, 2 handbags, 11.9ms\n",
            "video 1/1 (348/364) /content/Pedestrian_Tracking/5fps/Kabukicho_240825_5fps.mp4: 416x640 12 persons, 4 umbrellas, 4 handbags, 12.4ms\n",
            "video 1/1 (349/364) /content/Pedestrian_Tracking/5fps/Kabukicho_240825_5fps.mp4: 416x640 13 persons, 4 umbrellas, 3 handbags, 12.3ms\n",
            "video 1/1 (350/364) /content/Pedestrian_Tracking/5fps/Kabukicho_240825_5fps.mp4: 416x640 11 persons, 5 umbrellas, 5 handbags, 12.3ms\n",
            "video 1/1 (351/364) /content/Pedestrian_Tracking/5fps/Kabukicho_240825_5fps.mp4: 416x640 12 persons, 5 umbrellas, 5 handbags, 12.2ms\n",
            "video 1/1 (352/364) /content/Pedestrian_Tracking/5fps/Kabukicho_240825_5fps.mp4: 416x640 12 persons, 4 umbrellas, 3 handbags, 1 skateboard, 12.1ms\n",
            "video 1/1 (353/364) /content/Pedestrian_Tracking/5fps/Kabukicho_240825_5fps.mp4: 416x640 12 persons, 4 umbrellas, 3 handbags, 12.0ms\n",
            "video 1/1 (354/364) /content/Pedestrian_Tracking/5fps/Kabukicho_240825_5fps.mp4: 416x640 12 persons, 5 umbrellas, 6 handbags, 12.4ms\n",
            "video 1/1 (355/364) /content/Pedestrian_Tracking/5fps/Kabukicho_240825_5fps.mp4: 416x640 14 persons, 5 umbrellas, 3 handbags, 12.1ms\n",
            "video 1/1 (356/364) /content/Pedestrian_Tracking/5fps/Kabukicho_240825_5fps.mp4: 416x640 14 persons, 5 umbrellas, 4 handbags, 12.2ms\n",
            "video 1/1 (357/364) /content/Pedestrian_Tracking/5fps/Kabukicho_240825_5fps.mp4: 416x640 13 persons, 6 umbrellas, 1 handbag, 12.2ms\n",
            "video 1/1 (358/364) /content/Pedestrian_Tracking/5fps/Kabukicho_240825_5fps.mp4: 416x640 13 persons, 4 umbrellas, 1 handbag, 12.0ms\n",
            "video 1/1 (359/364) /content/Pedestrian_Tracking/5fps/Kabukicho_240825_5fps.mp4: 416x640 13 persons, 5 umbrellas, 12.1ms\n",
            "video 1/1 (360/364) /content/Pedestrian_Tracking/5fps/Kabukicho_240825_5fps.mp4: 416x640 14 persons, 5 umbrellas, 2 handbags, 12.5ms\n",
            "video 1/1 (361/364) /content/Pedestrian_Tracking/5fps/Kabukicho_240825_5fps.mp4: 416x640 14 persons, 6 umbrellas, 2 handbags, 12.2ms\n",
            "video 1/1 (362/364) /content/Pedestrian_Tracking/5fps/Kabukicho_240825_5fps.mp4: 416x640 13 persons, 6 umbrellas, 1 handbag, 12.3ms\n",
            "video 1/1 (363/364) /content/Pedestrian_Tracking/5fps/Kabukicho_240825_5fps.mp4: 416x640 14 persons, 4 umbrellas, 12.3ms\n",
            "video 1/1 (364/364) /content/Pedestrian_Tracking/5fps/Kabukicho_240825_5fps.mp4: 416x640 11 persons, 4 umbrellas, 1 handbag, 12.6ms\n",
            "Speed: 0.5ms pre-process, 12.8ms inference, 4.5ms postprocess per image at shape (1, 3, 640, 640)\n",
            "Results saved to \u001b[1m/content/Pedestrian_Tracking/runs/detect/train2\u001b[0m\n"
          ]
        }
      ],
      "source": [
        "!python predict.py model=yolov8x-seg.pt source=\"/content/Pedestrian_Tracking/5fps/Kabukicho_240825_5fps.mp4\""
      ]
    },
    {
      "cell_type": "markdown",
      "metadata": {
        "id": "oT1NDwMpEwHO"
      },
      "source": [
        "#### Display the Demo Video (or you can simply download it)"
      ]
    },
    {
      "cell_type": "code",
      "execution_count": 36,
      "metadata": {
        "colab": {
          "base_uri": "https://localhost:8080/",
          "height": 35
        },
        "id": "sLtKHLzvOoEh",
        "outputId": "3e4c8e6b-7b3d-426b-b4a9-db0416ea5019"
      },
      "outputs": [
        {
          "output_type": "execute_result",
          "data": {
            "text/plain": [
              "'/content/Pedestrian_Tracking/ultralytics/yolo/v8/segment'"
            ],
            "application/vnd.google.colaboratory.intrinsic+json": {
              "type": "string"
            }
          },
          "metadata": {},
          "execution_count": 36
        }
      ],
      "source": [
        "%pwd"
      ]
    },
    {
      "cell_type": "code",
      "execution_count": 37,
      "metadata": {
        "colab": {
          "base_uri": "https://localhost:8080/"
        },
        "id": "7MyfgoWKE1e0",
        "outputId": "cb901458-2e04-4c53-e63a-8182116b6927"
      },
      "outputs": [
        {
          "output_type": "stream",
          "name": "stdout",
          "text": [
            "rm: cannot remove 'result_compressed.mp4': No such file or directory\n"
          ]
        }
      ],
      "source": [
        "!rm \"result_compressed.mp4\""
      ]
    },
    {
      "cell_type": "code",
      "execution_count": null,
      "metadata": {
        "id": "WkR9WDjCEn18"
      },
      "outputs": [],
      "source": [
        "# from IPython.display import HTML\n",
        "# from base64 import b64encode\n",
        "# import os\n",
        "\n",
        "# # Input video path\n",
        "# save_path = r\"C:\\Users\\jgcao\\Desktop\\Wendy's Stuff\\VS Code\\YOLOv8_Segmentation_DeepSORT_Object_Tracking\\runs\\detect\\train6\\2024-07-26 truncated timelapse.mp4\"\n",
        "\n",
        "# # Compressed video path\n",
        "# compressed_path = \"result_compressed.mp4\"\n",
        "\n",
        "# os.system(f\"ffmpeg -i {save_path} -vcodec libx264 {compressed_path}\")\n",
        "\n",
        "# # Show video\n",
        "# mp4 = open(compressed_path,'rb').read()\n",
        "# data_url = \"data:video/mp4;base64,\" + b64encode(mp4).decode()\n",
        "# HTML(\"\"\"\n",
        "# <video width=400 controls>\n",
        "#       <source src=\"%s\" type=\"video/mp4\">\n",
        "# </video>\n",
        "# \"\"\" % data_url)"
      ]
    },
    {
      "cell_type": "markdown",
      "metadata": {
        "id": "xX9nibOd53XV"
      },
      "source": [
        "## (wip) Data Analysis"
      ]
    },
    {
      "cell_type": "code",
      "execution_count": null,
      "metadata": {
        "id": "v4cm_Zyc53XW"
      },
      "outputs": [],
      "source": [
        "%pip install pandas\n",
        "%pip install matplotlib"
      ]
    },
    {
      "cell_type": "code",
      "execution_count": null,
      "metadata": {
        "id": "tC20vBgp53XW"
      },
      "outputs": [],
      "source": [
        "#data visualization\n",
        "import pandas as pd\n",
        "import matplotlib.pyplot as plt"
      ]
    },
    {
      "cell_type": "markdown",
      "source": [
        "#### Simple Analysis on Number of People in Shadow"
      ],
      "metadata": {
        "id": "rJffZxraPHi5"
      }
    },
    {
      "cell_type": "code",
      "execution_count": null,
      "metadata": {
        "id": "suMSZ6ud53XW"
      },
      "outputs": [],
      "source": [
        "data = pd.read_csv(csv_file)\n",
        "num_in_shadow = {}\n",
        "num_out_shadow = {}\n",
        "\n",
        "for i in range(data['frame'].nunique()):\n",
        "  count = len(data[(data['in_shadow'] == True) & (data['frame'] == i)])\n",
        "  num_in_shadow[i] = count\n",
        "  count = len(data[(data['in_shadow'] == False) & (data['frame'] == i)])\n",
        "  num_out_shadow[i] = count\n",
        "\n",
        "df = pd.DataFrame([num_in_shadow, num_out_shadow]).T\n",
        "df.columns = ['in_shadow', 'out_shadow']\n",
        "df.reset_index(inplace=True)\n",
        "\n",
        "# Optional: Rename the index column\n",
        "df.rename(columns={'index': 'Frame'}, inplace=True)\n",
        "\n",
        "print(df)\n",
        "\n",
        "fig, ax = plt.subplots()\n",
        "ax.plot(df['Frame'], df['in_shadow'], label='# in shadow')\n",
        "ax.plot(df['Frame'], df['out_shadow'], label='# out shadow')\n",
        "ax.legend()\n",
        "\n",
        "ax.set_xlabel('Frame')\n",
        "ax.set_ylabel('Number of people')\n",
        "plt.title(\"All Data\")\n",
        "\n",
        "plt.show()"
      ]
    },
    {
      "cell_type": "code",
      "execution_count": null,
      "metadata": {
        "id": "GSgDEZtM53XW"
      },
      "outputs": [],
      "source": [
        "# Calculate the moving average for 'out_shadow'\n",
        "#edit window\n",
        "df['ma_out_shadow'] = df['out_shadow'].rolling(window=10).mean()\n",
        "\n",
        "# Plot the moving averages\n",
        "plt.figure(figsize=(10, 6))\n",
        "plt.plot(df['Frame'], df['ma'], label='Moving Average In Shadow')\n",
        "plt.plot(df['Frame'], df['ma_out_shadow'], label='Moving Average Out Shadow')\n",
        "plt.legend()\n",
        "plt.xlabel('Frame')\n",
        "plt.ylabel('Number of people')\n",
        "plt.title('Moving Average (10) of People In and Out of Shadow')\n",
        "plt.show()"
      ]
    }
  ],
  "metadata": {
    "accelerator": "GPU",
    "colab": {
      "provenance": [],
      "machine_shape": "hm",
      "gpuType": "A100",
      "include_colab_link": true
    },
    "kernelspec": {
      "display_name": "Python 3",
      "name": "python3"
    },
    "language_info": {
      "codemirror_mode": {
        "name": "ipython",
        "version": 3
      },
      "file_extension": ".py",
      "mimetype": "text/x-python",
      "name": "python",
      "nbconvert_exporter": "python",
      "pygments_lexer": "ipython3",
      "version": "3.11.11"
    }
  },
  "nbformat": 4,
  "nbformat_minor": 0
}