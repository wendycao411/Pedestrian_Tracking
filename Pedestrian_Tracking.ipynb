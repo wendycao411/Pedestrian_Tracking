{
  "cells": [
    {
      "cell_type": "code",
      "execution_count": null,
      "metadata": {},
      "outputs": [],
      "source": [
        "%cd /content/\n",
        "!git clone  \"https://github.com/wendycao411/Pedestrian_Tracking.git\"\n"
      ]
    },
    {
      "cell_type": "markdown",
      "metadata": {
        "id": "p4PQj_GXDMFb"
      },
      "source": [
        "Install all dependencies"
      ]
    },
    {
      "cell_type": "code",
      "execution_count": 1,
      "metadata": {},
      "outputs": [
        {
          "name": "stdout",
          "output_type": "stream",
          "text": [
            "C:\\Users\\jgcao\\Desktop\\Wendy's Stuff\\VS Code\\YOLOv8_Segmentation_DeepSORT_Object_Tracking\n"
          ]
        }
      ],
      "source": [
        "%cd /content/Pedestrian_Tracking"
      ]
    },
    {
      "cell_type": "code",
      "execution_count": 30,
      "metadata": {
        "colab": {
          "base_uri": "https://localhost:8080/"
        },
        "id": "hxERsChADIgc",
        "outputId": "e51852aa-0394-48c3-c93b-53c785a02afb"
      },
      "outputs": [
        {
          "name": "stdout",
          "output_type": "stream",
          "text": [
            "Obtaining file:///C:/Users/jgcao/Desktop/Wendy%27s%20Stuff/VS%20Code/YOLOv8_Segmentation_DeepSORT_Object_Tracking\n",
            "  Preparing metadata (setup.py): started\n",
            "  Preparing metadata (setup.py): finished with status 'done'\n",
            "Requirement already satisfied: hydra-core>=1.2.0 in c:\\users\\jgcao\\desktop\\wendy's stuff\\vs code\\yolov8_segmentation_deepsort_object_tracking\\.conda\\lib\\site-packages (from ultralytics==8.0.3) (1.3.2)\n",
            "Requirement already satisfied: matplotlib>=3.2.2 in c:\\users\\jgcao\\desktop\\wendy's stuff\\vs code\\yolov8_segmentation_deepsort_object_tracking\\.conda\\lib\\site-packages (from ultralytics==8.0.3) (3.10.0)\n",
            "Requirement already satisfied: numpy>=1.18.5 in c:\\users\\jgcao\\desktop\\wendy's stuff\\vs code\\yolov8_segmentation_deepsort_object_tracking\\.conda\\lib\\site-packages (from ultralytics==8.0.3) (1.23.5)\n",
            "Requirement already satisfied: opencv-python>=4.1.1 in c:\\users\\jgcao\\desktop\\wendy's stuff\\vs code\\yolov8_segmentation_deepsort_object_tracking\\.conda\\lib\\site-packages (from ultralytics==8.0.3) (4.11.0.86)\n",
            "Requirement already satisfied: Pillow>=7.1.2 in c:\\users\\jgcao\\desktop\\wendy's stuff\\vs code\\yolov8_segmentation_deepsort_object_tracking\\.conda\\lib\\site-packages (from ultralytics==8.0.3) (11.1.0)\n",
            "Requirement already satisfied: PyYAML>=5.3.1 in c:\\users\\jgcao\\desktop\\wendy's stuff\\vs code\\yolov8_segmentation_deepsort_object_tracking\\.conda\\lib\\site-packages (from ultralytics==8.0.3) (6.0.2)\n",
            "Requirement already satisfied: requests>=2.23.0 in c:\\users\\jgcao\\desktop\\wendy's stuff\\vs code\\yolov8_segmentation_deepsort_object_tracking\\.conda\\lib\\site-packages (from ultralytics==8.0.3) (2.32.3)\n",
            "Requirement already satisfied: scipy>=1.4.1 in c:\\users\\jgcao\\desktop\\wendy's stuff\\vs code\\yolov8_segmentation_deepsort_object_tracking\\.conda\\lib\\site-packages (from ultralytics==8.0.3) (1.15.1)\n",
            "Requirement already satisfied: torch>=1.7.0 in c:\\users\\jgcao\\desktop\\wendy's stuff\\vs code\\yolov8_segmentation_deepsort_object_tracking\\.conda\\lib\\site-packages (from ultralytics==8.0.3) (2.5.1)\n",
            "Requirement already satisfied: torchvision>=0.8.1 in c:\\users\\jgcao\\desktop\\wendy's stuff\\vs code\\yolov8_segmentation_deepsort_object_tracking\\.conda\\lib\\site-packages (from ultralytics==8.0.3) (0.20.1)\n",
            "Requirement already satisfied: tqdm>=4.64.0 in c:\\users\\jgcao\\desktop\\wendy's stuff\\vs code\\yolov8_segmentation_deepsort_object_tracking\\.conda\\lib\\site-packages (from ultralytics==8.0.3) (4.67.1)\n",
            "Requirement already satisfied: tensorboard>=2.4.1 in c:\\users\\jgcao\\desktop\\wendy's stuff\\vs code\\yolov8_segmentation_deepsort_object_tracking\\.conda\\lib\\site-packages (from ultralytics==8.0.3) (2.18.0)\n",
            "Requirement already satisfied: pandas>=1.1.4 in c:\\users\\jgcao\\desktop\\wendy's stuff\\vs code\\yolov8_segmentation_deepsort_object_tracking\\.conda\\lib\\site-packages (from ultralytics==8.0.3) (2.2.3)\n",
            "Requirement already satisfied: seaborn>=0.11.0 in c:\\users\\jgcao\\desktop\\wendy's stuff\\vs code\\yolov8_segmentation_deepsort_object_tracking\\.conda\\lib\\site-packages (from ultralytics==8.0.3) (0.13.2)\n",
            "Requirement already satisfied: ipython in c:\\users\\jgcao\\desktop\\wendy's stuff\\vs code\\yolov8_segmentation_deepsort_object_tracking\\.conda\\lib\\site-packages (from ultralytics==8.0.3) (8.31.0)\n",
            "Requirement already satisfied: psutil in c:\\users\\jgcao\\desktop\\wendy's stuff\\vs code\\yolov8_segmentation_deepsort_object_tracking\\.conda\\lib\\site-packages (from ultralytics==8.0.3) (6.1.1)\n",
            "Requirement already satisfied: thop>=0.1.1 in c:\\users\\jgcao\\desktop\\wendy's stuff\\vs code\\yolov8_segmentation_deepsort_object_tracking\\.conda\\lib\\site-packages (from ultralytics==8.0.3) (0.1.1.post2209072238)\n",
            "Requirement already satisfied: GitPython>=3.1.24 in c:\\users\\jgcao\\desktop\\wendy's stuff\\vs code\\yolov8_segmentation_deepsort_object_tracking\\.conda\\lib\\site-packages (from ultralytics==8.0.3) (3.1.44)\n",
            "Requirement already satisfied: check-manifest in c:\\users\\jgcao\\desktop\\wendy's stuff\\vs code\\yolov8_segmentation_deepsort_object_tracking\\.conda\\lib\\site-packages (from ultralytics==8.0.3) (0.50)\n",
            "Requirement already satisfied: pytest in c:\\users\\jgcao\\desktop\\wendy's stuff\\vs code\\yolov8_segmentation_deepsort_object_tracking\\.conda\\lib\\site-packages (from ultralytics==8.0.3) (8.3.4)\n",
            "Requirement already satisfied: pytest-cov in c:\\users\\jgcao\\desktop\\wendy's stuff\\vs code\\yolov8_segmentation_deepsort_object_tracking\\.conda\\lib\\site-packages (from ultralytics==8.0.3) (6.0.0)\n",
            "Requirement already satisfied: coverage in c:\\users\\jgcao\\desktop\\wendy's stuff\\vs code\\yolov8_segmentation_deepsort_object_tracking\\.conda\\lib\\site-packages (from ultralytics==8.0.3) (7.6.10)\n",
            "Requirement already satisfied: mkdocs in c:\\users\\jgcao\\desktop\\wendy's stuff\\vs code\\yolov8_segmentation_deepsort_object_tracking\\.conda\\lib\\site-packages (from ultralytics==8.0.3) (1.6.1)\n",
            "Requirement already satisfied: mkdocstrings[python] in c:\\users\\jgcao\\desktop\\wendy's stuff\\vs code\\yolov8_segmentation_deepsort_object_tracking\\.conda\\lib\\site-packages (from ultralytics==8.0.3) (0.27.0)\n",
            "Requirement already satisfied: mkdocs-material in c:\\users\\jgcao\\desktop\\wendy's stuff\\vs code\\yolov8_segmentation_deepsort_object_tracking\\.conda\\lib\\site-packages (from ultralytics==8.0.3) (9.5.50)\n",
            "Requirement already satisfied: gitdb<5,>=4.0.1 in c:\\users\\jgcao\\desktop\\wendy's stuff\\vs code\\yolov8_segmentation_deepsort_object_tracking\\.conda\\lib\\site-packages (from GitPython>=3.1.24->ultralytics==8.0.3) (4.0.12)\n",
            "Requirement already satisfied: omegaconf<2.4,>=2.2 in c:\\users\\jgcao\\desktop\\wendy's stuff\\vs code\\yolov8_segmentation_deepsort_object_tracking\\.conda\\lib\\site-packages (from hydra-core>=1.2.0->ultralytics==8.0.3) (2.3.0)\n",
            "Requirement already satisfied: antlr4-python3-runtime==4.9.* in c:\\users\\jgcao\\desktop\\wendy's stuff\\vs code\\yolov8_segmentation_deepsort_object_tracking\\.conda\\lib\\site-packages (from hydra-core>=1.2.0->ultralytics==8.0.3) (4.9.3)\n",
            "Requirement already satisfied: packaging in c:\\users\\jgcao\\desktop\\wendy's stuff\\vs code\\yolov8_segmentation_deepsort_object_tracking\\.conda\\lib\\site-packages (from hydra-core>=1.2.0->ultralytics==8.0.3) (24.2)\n",
            "Requirement already satisfied: contourpy>=1.0.1 in c:\\users\\jgcao\\desktop\\wendy's stuff\\vs code\\yolov8_segmentation_deepsort_object_tracking\\.conda\\lib\\site-packages (from matplotlib>=3.2.2->ultralytics==8.0.3) (1.3.1)\n",
            "Requirement already satisfied: cycler>=0.10 in c:\\users\\jgcao\\desktop\\wendy's stuff\\vs code\\yolov8_segmentation_deepsort_object_tracking\\.conda\\lib\\site-packages (from matplotlib>=3.2.2->ultralytics==8.0.3) (0.12.1)\n",
            "Requirement already satisfied: fonttools>=4.22.0 in c:\\users\\jgcao\\desktop\\wendy's stuff\\vs code\\yolov8_segmentation_deepsort_object_tracking\\.conda\\lib\\site-packages (from matplotlib>=3.2.2->ultralytics==8.0.3) (4.55.4)\n",
            "Requirement already satisfied: kiwisolver>=1.3.1 in c:\\users\\jgcao\\desktop\\wendy's stuff\\vs code\\yolov8_segmentation_deepsort_object_tracking\\.conda\\lib\\site-packages (from matplotlib>=3.2.2->ultralytics==8.0.3) (1.4.8)\n",
            "Requirement already satisfied: pyparsing>=2.3.1 in c:\\users\\jgcao\\desktop\\wendy's stuff\\vs code\\yolov8_segmentation_deepsort_object_tracking\\.conda\\lib\\site-packages (from matplotlib>=3.2.2->ultralytics==8.0.3) (3.2.1)\n",
            "Requirement already satisfied: python-dateutil>=2.7 in c:\\users\\jgcao\\desktop\\wendy's stuff\\vs code\\yolov8_segmentation_deepsort_object_tracking\\.conda\\lib\\site-packages (from matplotlib>=3.2.2->ultralytics==8.0.3) (2.9.0.post0)\n",
            "Requirement already satisfied: pytz>=2020.1 in c:\\users\\jgcao\\desktop\\wendy's stuff\\vs code\\yolov8_segmentation_deepsort_object_tracking\\.conda\\lib\\site-packages (from pandas>=1.1.4->ultralytics==8.0.3) (2024.2)\n",
            "Requirement already satisfied: tzdata>=2022.7 in c:\\users\\jgcao\\desktop\\wendy's stuff\\vs code\\yolov8_segmentation_deepsort_object_tracking\\.conda\\lib\\site-packages (from pandas>=1.1.4->ultralytics==8.0.3) (2024.2)\n",
            "Requirement already satisfied: charset_normalizer<4,>=2 in c:\\users\\jgcao\\desktop\\wendy's stuff\\vs code\\yolov8_segmentation_deepsort_object_tracking\\.conda\\lib\\site-packages (from requests>=2.23.0->ultralytics==8.0.3) (3.4.1)\n",
            "Requirement already satisfied: idna<4,>=2.5 in c:\\users\\jgcao\\desktop\\wendy's stuff\\vs code\\yolov8_segmentation_deepsort_object_tracking\\.conda\\lib\\site-packages (from requests>=2.23.0->ultralytics==8.0.3) (3.10)\n",
            "Requirement already satisfied: urllib3<3,>=1.21.1 in c:\\users\\jgcao\\desktop\\wendy's stuff\\vs code\\yolov8_segmentation_deepsort_object_tracking\\.conda\\lib\\site-packages (from requests>=2.23.0->ultralytics==8.0.3) (2.3.0)\n",
            "Requirement already satisfied: certifi>=2017.4.17 in c:\\users\\jgcao\\desktop\\wendy's stuff\\vs code\\yolov8_segmentation_deepsort_object_tracking\\.conda\\lib\\site-packages (from requests>=2.23.0->ultralytics==8.0.3) (2024.12.14)\n",
            "Requirement already satisfied: absl-py>=0.4 in c:\\users\\jgcao\\desktop\\wendy's stuff\\vs code\\yolov8_segmentation_deepsort_object_tracking\\.conda\\lib\\site-packages (from tensorboard>=2.4.1->ultralytics==8.0.3) (2.1.0)\n",
            "Requirement already satisfied: grpcio>=1.48.2 in c:\\users\\jgcao\\desktop\\wendy's stuff\\vs code\\yolov8_segmentation_deepsort_object_tracking\\.conda\\lib\\site-packages (from tensorboard>=2.4.1->ultralytics==8.0.3) (1.69.0)\n",
            "Requirement already satisfied: markdown>=2.6.8 in c:\\users\\jgcao\\desktop\\wendy's stuff\\vs code\\yolov8_segmentation_deepsort_object_tracking\\.conda\\lib\\site-packages (from tensorboard>=2.4.1->ultralytics==8.0.3) (3.7)\n",
            "Requirement already satisfied: protobuf!=4.24.0,>=3.19.6 in c:\\users\\jgcao\\desktop\\wendy's stuff\\vs code\\yolov8_segmentation_deepsort_object_tracking\\.conda\\lib\\site-packages (from tensorboard>=2.4.1->ultralytics==8.0.3) (5.29.3)\n",
            "Requirement already satisfied: setuptools>=41.0.0 in c:\\users\\jgcao\\desktop\\wendy's stuff\\vs code\\yolov8_segmentation_deepsort_object_tracking\\.conda\\lib\\site-packages (from tensorboard>=2.4.1->ultralytics==8.0.3) (75.8.0)\n",
            "Requirement already satisfied: six>1.9 in c:\\users\\jgcao\\desktop\\wendy's stuff\\vs code\\yolov8_segmentation_deepsort_object_tracking\\.conda\\lib\\site-packages (from tensorboard>=2.4.1->ultralytics==8.0.3) (1.17.0)\n",
            "Requirement already satisfied: tensorboard-data-server<0.8.0,>=0.7.0 in c:\\users\\jgcao\\desktop\\wendy's stuff\\vs code\\yolov8_segmentation_deepsort_object_tracking\\.conda\\lib\\site-packages (from tensorboard>=2.4.1->ultralytics==8.0.3) (0.7.2)\n",
            "Requirement already satisfied: werkzeug>=1.0.1 in c:\\users\\jgcao\\desktop\\wendy's stuff\\vs code\\yolov8_segmentation_deepsort_object_tracking\\.conda\\lib\\site-packages (from tensorboard>=2.4.1->ultralytics==8.0.3) (3.1.3)\n",
            "Requirement already satisfied: filelock in c:\\users\\jgcao\\desktop\\wendy's stuff\\vs code\\yolov8_segmentation_deepsort_object_tracking\\.conda\\lib\\site-packages (from torch>=1.7.0->ultralytics==8.0.3) (3.16.1)\n",
            "Requirement already satisfied: typing-extensions>=4.8.0 in c:\\users\\jgcao\\desktop\\wendy's stuff\\vs code\\yolov8_segmentation_deepsort_object_tracking\\.conda\\lib\\site-packages (from torch>=1.7.0->ultralytics==8.0.3) (4.12.2)\n",
            "Requirement already satisfied: networkx in c:\\users\\jgcao\\desktop\\wendy's stuff\\vs code\\yolov8_segmentation_deepsort_object_tracking\\.conda\\lib\\site-packages (from torch>=1.7.0->ultralytics==8.0.3) (3.4.2)\n",
            "Requirement already satisfied: jinja2 in c:\\users\\jgcao\\desktop\\wendy's stuff\\vs code\\yolov8_segmentation_deepsort_object_tracking\\.conda\\lib\\site-packages (from torch>=1.7.0->ultralytics==8.0.3) (3.1.5)\n",
            "Requirement already satisfied: fsspec in c:\\users\\jgcao\\desktop\\wendy's stuff\\vs code\\yolov8_segmentation_deepsort_object_tracking\\.conda\\lib\\site-packages (from torch>=1.7.0->ultralytics==8.0.3) (2024.12.0)\n",
            "Requirement already satisfied: sympy==1.13.1 in c:\\users\\jgcao\\desktop\\wendy's stuff\\vs code\\yolov8_segmentation_deepsort_object_tracking\\.conda\\lib\\site-packages (from torch>=1.7.0->ultralytics==8.0.3) (1.13.1)\n",
            "Requirement already satisfied: mpmath<1.4,>=1.1.0 in c:\\users\\jgcao\\desktop\\wendy's stuff\\vs code\\yolov8_segmentation_deepsort_object_tracking\\.conda\\lib\\site-packages (from sympy==1.13.1->torch>=1.7.0->ultralytics==8.0.3) (1.3.0)\n",
            "Requirement already satisfied: colorama in c:\\users\\jgcao\\desktop\\wendy's stuff\\vs code\\yolov8_segmentation_deepsort_object_tracking\\.conda\\lib\\site-packages (from tqdm>=4.64.0->ultralytics==8.0.3) (0.4.6)\n",
            "Requirement already satisfied: build>=0.1 in c:\\users\\jgcao\\desktop\\wendy's stuff\\vs code\\yolov8_segmentation_deepsort_object_tracking\\.conda\\lib\\site-packages (from check-manifest->ultralytics==8.0.3) (1.2.2.post1)\n",
            "Requirement already satisfied: decorator in c:\\users\\jgcao\\desktop\\wendy's stuff\\vs code\\yolov8_segmentation_deepsort_object_tracking\\.conda\\lib\\site-packages (from ipython->ultralytics==8.0.3) (5.1.1)\n",
            "Requirement already satisfied: jedi>=0.16 in c:\\users\\jgcao\\desktop\\wendy's stuff\\vs code\\yolov8_segmentation_deepsort_object_tracking\\.conda\\lib\\site-packages (from ipython->ultralytics==8.0.3) (0.19.2)\n",
            "Requirement already satisfied: matplotlib-inline in c:\\users\\jgcao\\desktop\\wendy's stuff\\vs code\\yolov8_segmentation_deepsort_object_tracking\\.conda\\lib\\site-packages (from ipython->ultralytics==8.0.3) (0.1.7)\n",
            "Requirement already satisfied: prompt_toolkit<3.1.0,>=3.0.41 in c:\\users\\jgcao\\desktop\\wendy's stuff\\vs code\\yolov8_segmentation_deepsort_object_tracking\\.conda\\lib\\site-packages (from ipython->ultralytics==8.0.3) (3.0.50)\n",
            "Requirement already satisfied: pygments>=2.4.0 in c:\\users\\jgcao\\desktop\\wendy's stuff\\vs code\\yolov8_segmentation_deepsort_object_tracking\\.conda\\lib\\site-packages (from ipython->ultralytics==8.0.3) (2.19.1)\n",
            "Requirement already satisfied: stack_data in c:\\users\\jgcao\\desktop\\wendy's stuff\\vs code\\yolov8_segmentation_deepsort_object_tracking\\.conda\\lib\\site-packages (from ipython->ultralytics==8.0.3) (0.6.3)\n",
            "Requirement already satisfied: traitlets>=5.13.0 in c:\\users\\jgcao\\desktop\\wendy's stuff\\vs code\\yolov8_segmentation_deepsort_object_tracking\\.conda\\lib\\site-packages (from ipython->ultralytics==8.0.3) (5.14.3)\n",
            "Requirement already satisfied: click>=7.0 in c:\\users\\jgcao\\desktop\\wendy's stuff\\vs code\\yolov8_segmentation_deepsort_object_tracking\\.conda\\lib\\site-packages (from mkdocs->ultralytics==8.0.3) (8.1.8)\n",
            "Requirement already satisfied: ghp-import>=1.0 in c:\\users\\jgcao\\desktop\\wendy's stuff\\vs code\\yolov8_segmentation_deepsort_object_tracking\\.conda\\lib\\site-packages (from mkdocs->ultralytics==8.0.3) (2.1.0)\n",
            "Requirement already satisfied: markupsafe>=2.0.1 in c:\\users\\jgcao\\desktop\\wendy's stuff\\vs code\\yolov8_segmentation_deepsort_object_tracking\\.conda\\lib\\site-packages (from mkdocs->ultralytics==8.0.3) (3.0.2)\n",
            "Requirement already satisfied: mergedeep>=1.3.4 in c:\\users\\jgcao\\desktop\\wendy's stuff\\vs code\\yolov8_segmentation_deepsort_object_tracking\\.conda\\lib\\site-packages (from mkdocs->ultralytics==8.0.3) (1.3.4)\n",
            "Requirement already satisfied: mkdocs-get-deps>=0.2.0 in c:\\users\\jgcao\\desktop\\wendy's stuff\\vs code\\yolov8_segmentation_deepsort_object_tracking\\.conda\\lib\\site-packages (from mkdocs->ultralytics==8.0.3) (0.2.0)\n",
            "Requirement already satisfied: pathspec>=0.11.1 in c:\\users\\jgcao\\desktop\\wendy's stuff\\vs code\\yolov8_segmentation_deepsort_object_tracking\\.conda\\lib\\site-packages (from mkdocs->ultralytics==8.0.3) (0.12.1)\n",
            "Requirement already satisfied: pyyaml-env-tag>=0.1 in c:\\users\\jgcao\\desktop\\wendy's stuff\\vs code\\yolov8_segmentation_deepsort_object_tracking\\.conda\\lib\\site-packages (from mkdocs->ultralytics==8.0.3) (0.1)\n",
            "Requirement already satisfied: watchdog>=2.0 in c:\\users\\jgcao\\desktop\\wendy's stuff\\vs code\\yolov8_segmentation_deepsort_object_tracking\\.conda\\lib\\site-packages (from mkdocs->ultralytics==8.0.3) (6.0.0)\n",
            "Requirement already satisfied: babel~=2.10 in c:\\users\\jgcao\\desktop\\wendy's stuff\\vs code\\yolov8_segmentation_deepsort_object_tracking\\.conda\\lib\\site-packages (from mkdocs-material->ultralytics==8.0.3) (2.16.0)\n",
            "Requirement already satisfied: mkdocs-material-extensions~=1.3 in c:\\users\\jgcao\\desktop\\wendy's stuff\\vs code\\yolov8_segmentation_deepsort_object_tracking\\.conda\\lib\\site-packages (from mkdocs-material->ultralytics==8.0.3) (1.3.1)\n",
            "Requirement already satisfied: paginate~=0.5 in c:\\users\\jgcao\\desktop\\wendy's stuff\\vs code\\yolov8_segmentation_deepsort_object_tracking\\.conda\\lib\\site-packages (from mkdocs-material->ultralytics==8.0.3) (0.5.7)\n",
            "Requirement already satisfied: pymdown-extensions~=10.2 in c:\\users\\jgcao\\desktop\\wendy's stuff\\vs code\\yolov8_segmentation_deepsort_object_tracking\\.conda\\lib\\site-packages (from mkdocs-material->ultralytics==8.0.3) (10.14)\n",
            "Requirement already satisfied: regex>=2022.4 in c:\\users\\jgcao\\desktop\\wendy's stuff\\vs code\\yolov8_segmentation_deepsort_object_tracking\\.conda\\lib\\site-packages (from mkdocs-material->ultralytics==8.0.3) (2024.11.6)\n",
            "Requirement already satisfied: mkdocs-autorefs>=1.2 in c:\\users\\jgcao\\desktop\\wendy's stuff\\vs code\\yolov8_segmentation_deepsort_object_tracking\\.conda\\lib\\site-packages (from mkdocstrings[python]; extra == \"dev\"->ultralytics==8.0.3) (1.3.0)\n",
            "Requirement already satisfied: platformdirs>=2.2 in c:\\users\\jgcao\\desktop\\wendy's stuff\\vs code\\yolov8_segmentation_deepsort_object_tracking\\.conda\\lib\\site-packages (from mkdocstrings[python]; extra == \"dev\"->ultralytics==8.0.3) (4.3.6)\n",
            "Requirement already satisfied: mkdocstrings-python>=0.5.2 in c:\\users\\jgcao\\desktop\\wendy's stuff\\vs code\\yolov8_segmentation_deepsort_object_tracking\\.conda\\lib\\site-packages (from mkdocstrings[python]; extra == \"dev\"->ultralytics==8.0.3) (1.13.0)\n",
            "Requirement already satisfied: iniconfig in c:\\users\\jgcao\\desktop\\wendy's stuff\\vs code\\yolov8_segmentation_deepsort_object_tracking\\.conda\\lib\\site-packages (from pytest->ultralytics==8.0.3) (2.0.0)\n",
            "Requirement already satisfied: pluggy<2,>=1.5 in c:\\users\\jgcao\\desktop\\wendy's stuff\\vs code\\yolov8_segmentation_deepsort_object_tracking\\.conda\\lib\\site-packages (from pytest->ultralytics==8.0.3) (1.5.0)\n",
            "Requirement already satisfied: pyproject_hooks in c:\\users\\jgcao\\desktop\\wendy's stuff\\vs code\\yolov8_segmentation_deepsort_object_tracking\\.conda\\lib\\site-packages (from build>=0.1->check-manifest->ultralytics==8.0.3) (1.2.0)\n",
            "Requirement already satisfied: smmap<6,>=3.0.1 in c:\\users\\jgcao\\desktop\\wendy's stuff\\vs code\\yolov8_segmentation_deepsort_object_tracking\\.conda\\lib\\site-packages (from gitdb<5,>=4.0.1->GitPython>=3.1.24->ultralytics==8.0.3) (5.0.2)\n",
            "Requirement already satisfied: parso<0.9.0,>=0.8.4 in c:\\users\\jgcao\\desktop\\wendy's stuff\\vs code\\yolov8_segmentation_deepsort_object_tracking\\.conda\\lib\\site-packages (from jedi>=0.16->ipython->ultralytics==8.0.3) (0.8.4)\n",
            "Requirement already satisfied: griffe>=0.49 in c:\\users\\jgcao\\desktop\\wendy's stuff\\vs code\\yolov8_segmentation_deepsort_object_tracking\\.conda\\lib\\site-packages (from mkdocstrings-python>=0.5.2->mkdocstrings[python]; extra == \"dev\"->ultralytics==8.0.3) (1.5.5)\n",
            "Requirement already satisfied: wcwidth in c:\\users\\jgcao\\desktop\\wendy's stuff\\vs code\\yolov8_segmentation_deepsort_object_tracking\\.conda\\lib\\site-packages (from prompt_toolkit<3.1.0,>=3.0.41->ipython->ultralytics==8.0.3) (0.2.13)\n",
            "Requirement already satisfied: executing>=1.2.0 in c:\\users\\jgcao\\desktop\\wendy's stuff\\vs code\\yolov8_segmentation_deepsort_object_tracking\\.conda\\lib\\site-packages (from stack_data->ipython->ultralytics==8.0.3) (2.1.0)\n",
            "Requirement already satisfied: asttokens>=2.1.0 in c:\\users\\jgcao\\desktop\\wendy's stuff\\vs code\\yolov8_segmentation_deepsort_object_tracking\\.conda\\lib\\site-packages (from stack_data->ipython->ultralytics==8.0.3) (3.0.0)\n",
            "Requirement already satisfied: pure_eval in c:\\users\\jgcao\\desktop\\wendy's stuff\\vs code\\yolov8_segmentation_deepsort_object_tracking\\.conda\\lib\\site-packages (from stack_data->ipython->ultralytics==8.0.3) (0.2.3)\n",
            "Installing collected packages: ultralytics\n",
            "  Attempting uninstall: ultralytics\n",
            "    Found existing installation: ultralytics 8.0.3\n",
            "    Uninstalling ultralytics-8.0.3:\n",
            "      Successfully uninstalled ultralytics-8.0.3\n",
            "  Running setup.py develop for ultralytics\n",
            "Successfully installed ultralytics-8.0.3\n",
            "Note: you may need to restart the kernel to use updated packages.\n"
          ]
        },
        {
          "name": "stderr",
          "output_type": "stream",
          "text": [
            "  DEPRECATION: Legacy editable install of ultralytics[dev]==8.0.3 from file:///C:/Users/jgcao/Desktop/Wendy%27s%20Stuff/VS%20Code/YOLOv8_Segmentation_DeepSORT_Object_Tracking (setup.py develop) is deprecated. pip 25.0 will enforce this behaviour change. A possible replacement is to add a pyproject.toml or enable --use-pep517, and use setuptools >= 64. If the resulting installation is not behaving as expected, try using --config-settings editable_mode=compat. Please consult the setuptools documentation for more information. Discussion can be found at https://github.com/pypa/pip/issues/11457\n"
          ]
        }
      ],
      "source": [
        "%pip install -e \".[dev]\""
      ]
    },
    {
      "cell_type": "markdown",
      "metadata": {},
      "source": [
        "Ensure that numpy is the correct version (float is deprecated or smth so we need to use a less recent version)"
      ]
    },
    {
      "cell_type": "code",
      "execution_count": 5,
      "metadata": {},
      "outputs": [
        {
          "name": "stdout",
          "output_type": "stream",
          "text": [
            "Found existing installation: numpy 2.2.2\n",
            "Uninstalling numpy-2.2.2:\n",
            "  Successfully uninstalled numpy-2.2.2\n",
            "Note: you may need to restart the kernel to use updated packages.\n",
            "Collecting numpy<1.24\n",
            "  Using cached numpy-1.23.5-cp311-cp311-win_amd64.whl.metadata (2.3 kB)\n",
            "Using cached numpy-1.23.5-cp311-cp311-win_amd64.whl (14.6 MB)\n",
            "Installing collected packages: numpy\n",
            "Successfully installed numpy-1.23.5\n",
            "Note: you may need to restart the kernel to use updated packages.\n"
          ]
        }
      ],
      "source": [
        "%pip show numpy\n",
        "%pip uninstall numpy -y\n",
        "%pip install \"numpy<1.24\""
      ]
    },
    {
      "cell_type": "markdown",
      "metadata": {},
      "source": [
        "Preprocessing (make time lapse, skip frames, etc.)"
      ]
    },
    {
      "cell_type": "code",
      "execution_count": 1,
      "metadata": {},
      "outputs": [
        {
          "name": "stdout",
          "output_type": "stream",
          "text": [
            "Collecting os-sys\n",
            "  Using cached os_sys-2.1.4-py3-none-any.whl.metadata (9.9 kB)\n",
            "Collecting pygubu (from os-sys)\n",
            "  Using cached pygubu-0.36-py3-none-any.whl.metadata (7.2 kB)\n",
            "Requirement already satisfied: pytz in c:\\users\\jgcao\\desktop\\wendy's stuff\\vs code\\yolov8_segmentation_deepsort_object_tracking\\.conda\\lib\\site-packages (from os-sys) (2024.2)\n",
            "Collecting sqlparse (from os-sys)\n",
            "  Using cached sqlparse-0.5.3-py3-none-any.whl.metadata (3.9 kB)\n",
            "Collecting progress (from os-sys)\n",
            "  Using cached progress-1.6.tar.gz (7.8 kB)\n",
            "  Preparing metadata (setup.py): started\n",
            "  Preparing metadata (setup.py): finished with status 'done'\n",
            "Requirement already satisfied: tqdm in c:\\users\\jgcao\\desktop\\wendy's stuff\\vs code\\yolov8_segmentation_deepsort_object_tracking\\.conda\\lib\\site-packages (from os-sys) (4.67.1)\n",
            "Collecting progressbar (from os-sys)\n",
            "  Using cached progressbar-2.5.tar.gz (10 kB)\n",
            "  Preparing metadata (setup.py): started\n",
            "  Preparing metadata (setup.py): finished with status 'done'\n",
            "Requirement already satisfied: matplotlib in c:\\users\\jgcao\\desktop\\wendy's stuff\\vs code\\yolov8_segmentation_deepsort_object_tracking\\.conda\\lib\\site-packages (from os-sys) (3.10.0)\n",
            "Requirement already satisfied: numpy in c:\\users\\jgcao\\desktop\\wendy's stuff\\vs code\\yolov8_segmentation_deepsort_object_tracking\\.conda\\lib\\site-packages (from os-sys) (2.2.2)\n",
            "Requirement already satisfied: six in c:\\users\\jgcao\\desktop\\wendy's stuff\\vs code\\yolov8_segmentation_deepsort_object_tracking\\.conda\\lib\\site-packages (from os-sys) (1.17.0)\n",
            "Requirement already satisfied: jupyter in c:\\users\\jgcao\\desktop\\wendy's stuff\\vs code\\yolov8_segmentation_deepsort_object_tracking\\.conda\\lib\\site-packages (from os-sys) (1.1.1)\n",
            "Requirement already satisfied: pandas in c:\\users\\jgcao\\desktop\\wendy's stuff\\vs code\\yolov8_segmentation_deepsort_object_tracking\\.conda\\lib\\site-packages (from os-sys) (2.2.3)\n",
            "Requirement already satisfied: beautifulsoup4 in c:\\users\\jgcao\\desktop\\wendy's stuff\\vs code\\yolov8_segmentation_deepsort_object_tracking\\.conda\\lib\\site-packages (from os-sys) (4.12.3)\n",
            "Collecting Eel (from os-sys)\n",
            "  Using cached eel-0.18.1.tar.gz (26 kB)\n",
            "  Preparing metadata (setup.py): started\n",
            "  Preparing metadata (setup.py): finished with status 'done'\n",
            "Collecting extract-zip (from os-sys)\n",
            "  Using cached extract_zip-1.0.0-py3-none-any.whl.metadata (403 bytes)\n",
            "INFO: pip is looking at multiple versions of os-sys to determine which version is compatible with other requirements. This could take a while.\n",
            "Collecting os-sys\n",
            "  Using cached os_sys-2.1.3-py3-none-any.whl.metadata (9.9 kB)\n",
            "  Using cached os_sys-2.1.2-py3-none-any.whl.metadata (9.9 kB)\n",
            "  Using cached os_sys-2.1.1-py3-none-any.whl.metadata (9.9 kB)\n",
            "  Using cached os_sys-2.1.0-py3-none-any.whl.metadata (9.9 kB)\n",
            "  Using cached os_sys-2.0.9-py3-none-any.whl.metadata (9.9 kB)\n",
            "  Using cached os_sys-2.0.8-py3-none-any.whl.metadata (9.9 kB)\n",
            "  Using cached os_sys-2.0.7-py3-none-any.whl.metadata (9.9 kB)\n",
            "INFO: pip is still looking at multiple versions of os-sys to determine which version is compatible with other requirements. This could take a while.\n",
            "  Using cached os_sys-2.0.6-py3-none-any.whl.metadata (9.5 kB)\n",
            "  Using cached os_sys-2.0.5-py3-none-any.whl.metadata (9.5 kB)\n",
            "  Using cached os_sys-2.0.4-py3-none-any.whl.metadata (9.5 kB)\n",
            "Collecting webview (from os-sys)\n",
            "  Using cached webview-0.1.5.tar.gz (18 kB)\n",
            "  Preparing metadata (setup.py): started\n",
            "  Preparing metadata (setup.py): finished with status 'done'\n",
            "Collecting os-sys\n",
            "  Using cached os_sys-2.0.3-py3-none-any.whl.metadata (9.2 kB)\n",
            "  Using cached os_sys-2.0.2-py3-none-any.whl.metadata (9.0 kB)\n",
            "INFO: This is taking longer than usual. You might need to provide the dependency resolver with stricter constraints to reduce runtime. See https://pip.pypa.io/warnings/backtracking for guidance. If you want to abort this run, press Ctrl + C.\n",
            "  Using cached os_sys-2.0.1-py3-none-any.whl.metadata (9.0 kB)\n",
            "  Using cached os_sys-2.0.0-py3-none-any.whl.metadata (9.0 kB)\n",
            "  Using cached os_sys-1.9.9-py3-none-any.whl.metadata (9.0 kB)\n",
            "  Using cached os_sys-1.9.8-py3-none-any.whl.metadata (9.0 kB)\n",
            "  Using cached os_sys-1.9.7-py3-none-any.whl.metadata (9.0 kB)\n",
            "  Using cached os_sys-1.9.6-py3-none-any.whl.metadata (9.0 kB)\n",
            "  Using cached os_sys-1.9.5-py3-none-any.whl.metadata (9.0 kB)\n",
            "  Using cached os_sys-1.9.4-py3-none-any.whl.metadata (9.0 kB)\n",
            "  Using cached os_sys-1.9.3-py3-none-any.whl (60.4 MB)\n",
            "Note: you may need to restart the kernel to use updated packages.\n"
          ]
        },
        {
          "name": "stderr",
          "output_type": "stream",
          "text": [
            "ERROR: os-sys has an invalid wheel, could not read 'os_sys-1.9.3.dist-info/WHEEL' file: KeyError(\"There is no item named 'os_sys-1.9.3.dist-info/WHEEL' in the archive\")\n"
          ]
        }
      ],
      "source": [
        "%pip install os-sys\n",
        "%pip install roboflow\n",
        "%pip install inference_sdk\n",
        "%pip install easydict"
      ]
    },
    {
      "cell_type": "code",
      "execution_count": 2,
      "metadata": {},
      "outputs": [
        {
          "name": "stdout",
          "output_type": "stream",
          "text": [
            "timesquare_timelapsed\n"
          ]
        }
      ],
      "source": [
        "import os\n",
        "import cv2\n",
        "\n",
        "video_path = r\"C:\\Users\\jgcao\\Desktop\\Wendy's Stuff\\VS Code\\YOLOv8_Segmentation_DeepSORT_Object_Tracking\\ultralytics\\yolo\\v8\\segment\\timesquare_timelapsed.mov\"\n",
        "file_name = os.path.splitext(os.path.basename(video_path))[0]\n",
        "\n",
        "print(file_name)"
      ]
    },
    {
      "cell_type": "code",
      "execution_count": null,
      "metadata": {},
      "outputs": [],
      "source": [
        "# video preprocessing\n",
        "\n",
        "# option 1 Adjust the frame rate to 5 FPS, and the total duration remains unchanged\n",
        "# !ffmpeg -i \"C:\\Users\\jgcao\\Desktop\\Wendy's Stuff\\VS Code\\MetabolicWalking\\data\\raw-video\\kabukicho\\2024-07-24 12_00.mp4\" -r 5 \"C:\\Users\\jgcao\\Desktop\\Wendy's Stuff\\VS Code\\MetabolicWalking\\data\\5fps\\2024-07-24 12_00.mp4\"\n",
        "\n",
        "\n",
        "# option 2 function: subsample/time laspe video\n",
        "def subsample_video(input_path, output_path, time_lapse_interval):\n",
        "    cap = cv2.VideoCapture(input_path)\n",
        "    if not cap.isOpened():\n",
        "        print(\"Error: Couldn't open video file.\")\n",
        "        return\n",
        "\n",
        "    frame_count = 0\n",
        "    fps = cap.get(cv2.CAP_PROP_FPS)\n",
        "    width = int(cap.get(cv2.CAP_PROP_FRAME_WIDTH))\n",
        "    height = int(cap.get(cv2.CAP_PROP_FRAME_HEIGHT))\n",
        "    codec = cv2.VideoWriter_fourcc(*'XVID')\n",
        "    out = cv2.VideoWriter(output_path, codec, fps, (width, height))\n",
        "\n",
        "    while cap.isOpened():\n",
        "        ret, frame = cap.read()\n",
        "        if not ret:\n",
        "            break\n",
        "\n",
        "        # Collect one frame out of every xx frames\n",
        "        if frame_count % time_lapse_interval == 0:\n",
        "            out.write(frame)\n",
        "\n",
        "        frame_count += 1\n",
        "\n",
        "    cap.release()\n",
        "    out.release()\n",
        "    cv2.destroyAllWindows()\n",
        "\n",
        "if __name__ == \"__main__\":\n",
        "    time_lapse_interval = 5 # change here\n",
        "    input_file = video_path \n",
        "    output_file = f\"C:/Users/jgcao/Desktop/Wendy's Stuff/VS Code/MetabolicWalking/data/timelapsed/{file_name}_timelapsed{time_lapse_interval}.mp4\"  # Replace with desired output video file path\n",
        "    subsample_video(input_file, output_file, time_lapse_interval)\n",
        "    print(f\"saved to {output_file}\")"
      ]
    },
    {
      "cell_type": "code",
      "execution_count": 9,
      "metadata": {},
      "outputs": [
        {
          "name": "stdout",
          "output_type": "stream",
          "text": [
            "C:\\Users\\jgcao\\Desktop\\Wendy's Stuff\\VS Code\\YOLOv8_Segmentation_DeepSORT_Object_Tracking\\ultralytics\\yolo\\v8\\segment\\timesquare_timelapsed.mov\n",
            "timesquare_timelapsed\n"
          ]
        }
      ],
      "source": [
        "video_path = r\"C:\\Users\\jgcao\\Desktop\\Wendy's Stuff\\VS Code\\YOLOv8_Segmentation_DeepSORT_Object_Tracking\\ultralytics\\yolo\\v8\\segment\\timesquare_timelapsed.mov\"\n",
        "file_name = os.path.splitext(os.path.basename(video_path))[0]\n",
        "\n",
        "print(video_path)\n",
        "print(file_name)"
      ]
    },
    {
      "cell_type": "code",
      "execution_count": 10,
      "metadata": {},
      "outputs": [
        {
          "name": "stdout",
          "output_type": "stream",
          "text": [
            "The total number of frames in the video：708\n",
            "Video frame rate：60.039114136611126\n"
          ]
        }
      ],
      "source": [
        "# number of frames in the video\n",
        "cap = cv2.VideoCapture(video_path)\n",
        "\n",
        "# Get the file name\n",
        "file_name = os.path.splitext(os.path.basename(video_path))[0]\n",
        "\n",
        "# Get the total number of frames of the video\n",
        "total_frames = int(cap.get(cv2.CAP_PROP_FRAME_COUNT))\n",
        "original_fps = cap.get(cv2.CAP_PROP_FPS)\n",
        "\n",
        "print(f\"The total number of frames in the video：{total_frames}\\nVideo frame rate：{original_fps}\")\n",
        "cap.release()"
      ]
    },
    {
      "cell_type": "markdown",
      "metadata": {
        "id": "i4-h2jwWDXU6"
      },
      "source": [
        "Moving to the Required Directory"
      ]
    },
    {
      "cell_type": "code",
      "execution_count": 3,
      "metadata": {
        "colab": {
          "base_uri": "https://localhost:8080/"
        },
        "id": "sWXs2RdKDnqB",
        "outputId": "5da5bb50-f22a-41bc-9a00-83f50b126641"
      },
      "outputs": [
        {
          "name": "stdout",
          "output_type": "stream",
          "text": [
            "C:\\Users\\jgcao\\Desktop\\Wendy's Stuff\\VS Code\\YOLOv8_Segmentation_DeepSORT_Object_Tracking\\ultralytics\\yolo\\v8\\segment\n"
          ]
        }
      ],
      "source": [
        "%cd ultralytics/yolo/v8/segment"
      ]
    },
    {
      "cell_type": "markdown",
      "metadata": {},
      "source": [
        "Download videos from Google Drive (requires the download link)"
      ]
    },
    {
      "cell_type": "code",
      "execution_count": null,
      "metadata": {},
      "outputs": [],
      "source": [
        "!gdown https://drive.google.com/uc?id=19P9Cf9UiJ9gU9KHnAfud6hrFOgobETTX"
      ]
    },
    {
      "cell_type": "markdown",
      "metadata": {
        "id": "xrxzHtFkElir"
      },
      "source": [
        "Run the Script for Segmentation with DeepSORT Tracking"
      ]
    },
    {
      "cell_type": "code",
      "execution_count": 20,
      "metadata": {
        "colab": {
          "base_uri": "https://localhost:8080/"
        },
        "id": "Qesy8lPaEaXW",
        "outputId": "89b3067d-6f8c-4b93-98cc-8b3a6f8e70da"
      },
      "outputs": [
        {
          "name": "stdout",
          "output_type": "stream",
          "text": [
            "^C\n"
          ]
        }
      ],
      "source": [
        "!python predict.py model=yolov8x-seg.pt source=\"timesquare_timelapsed.mov\""
      ]
    },
    {
      "cell_type": "markdown",
      "metadata": {
        "id": "oT1NDwMpEwHO"
      },
      "source": [
        "Display the Demo Video (or you can simply download it)"
      ]
    },
    {
      "cell_type": "code",
      "execution_count": 16,
      "metadata": {
        "colab": {
          "base_uri": "https://localhost:8080/"
        },
        "id": "sLtKHLzvOoEh",
        "outputId": "2fb647d2-1f11-4aa2-cccc-627ef0d83af5"
      },
      "outputs": [
        {
          "data": {
            "text/plain": [
              "\"C:\\\\Users\\\\jgcao\\\\Desktop\\\\Wendy's Stuff\\\\VS Code\\\\YOLOv8_Segmentation_DeepSORT_Object_Tracking\\\\ultralytics\\\\yolo\\\\v8\\\\segment\""
            ]
          },
          "execution_count": 16,
          "metadata": {},
          "output_type": "execute_result"
        }
      ],
      "source": [
        "%pwd"
      ]
    },
    {
      "cell_type": "code",
      "execution_count": 18,
      "metadata": {
        "colab": {
          "base_uri": "https://localhost:8080/"
        },
        "id": "7MyfgoWKE1e0",
        "outputId": "3bbc3564-de4a-43e2-8d7c-4665cb593a15"
      },
      "outputs": [
        {
          "name": "stderr",
          "output_type": "stream",
          "text": [
            "'rm' is not recognized as an internal or external command,\n",
            "operable program or batch file.\n"
          ]
        }
      ],
      "source": [
        "!rm \"result_compressed.mp4\""
      ]
    },
    {
      "cell_type": "code",
      "execution_count": 15,
      "metadata": {
        "colab": {
          "base_uri": "https://localhost:8080/",
          "height": 247
        },
        "id": "WkR9WDjCEn18",
        "outputId": "5fbc6813-8b68-4b89-aeb2-13d435c86b3c"
      },
      "outputs": [
        {
          "ename": "FileNotFoundError",
          "evalue": "[Errno 2] No such file or directory: 'result_compressed.mp4'",
          "output_type": "error",
          "traceback": [
            "\u001b[1;31m---------------------------------------------------------------------------\u001b[0m",
            "\u001b[1;31mFileNotFoundError\u001b[0m                         Traceback (most recent call last)",
            "Cell \u001b[1;32mIn[15], line 14\u001b[0m\n\u001b[0;32m     11\u001b[0m os\u001b[38;5;241m.\u001b[39msystem(\u001b[38;5;124mf\u001b[39m\u001b[38;5;124m\"\u001b[39m\u001b[38;5;124mffmpeg -i \u001b[39m\u001b[38;5;132;01m{\u001b[39;00msave_path\u001b[38;5;132;01m}\u001b[39;00m\u001b[38;5;124m -vcodec libx264 \u001b[39m\u001b[38;5;132;01m{\u001b[39;00mcompressed_path\u001b[38;5;132;01m}\u001b[39;00m\u001b[38;5;124m\"\u001b[39m)\n\u001b[0;32m     13\u001b[0m \u001b[38;5;66;03m# Show video\u001b[39;00m\n\u001b[1;32m---> 14\u001b[0m mp4 \u001b[38;5;241m=\u001b[39m \u001b[38;5;28;43mopen\u001b[39;49m\u001b[43m(\u001b[49m\u001b[43mcompressed_path\u001b[49m\u001b[43m,\u001b[49m\u001b[38;5;124;43m'\u001b[39;49m\u001b[38;5;124;43mrb\u001b[39;49m\u001b[38;5;124;43m'\u001b[39;49m\u001b[43m)\u001b[49m\u001b[38;5;241m.\u001b[39mread()\n\u001b[0;32m     15\u001b[0m data_url \u001b[38;5;241m=\u001b[39m \u001b[38;5;124m\"\u001b[39m\u001b[38;5;124mdata:video/mp4;base64,\u001b[39m\u001b[38;5;124m\"\u001b[39m \u001b[38;5;241m+\u001b[39m b64encode(mp4)\u001b[38;5;241m.\u001b[39mdecode()\n\u001b[0;32m     16\u001b[0m HTML(\u001b[38;5;124m\"\"\"\u001b[39m\n\u001b[0;32m     17\u001b[0m \u001b[38;5;124m<video width=400 controls>\u001b[39m\n\u001b[0;32m     18\u001b[0m \u001b[38;5;124m      <source src=\u001b[39m\u001b[38;5;124m\"\u001b[39m\u001b[38;5;132;01m%s\u001b[39;00m\u001b[38;5;124m\"\u001b[39m\u001b[38;5;124m type=\u001b[39m\u001b[38;5;124m\"\u001b[39m\u001b[38;5;124mvideo/mp4\u001b[39m\u001b[38;5;124m\"\u001b[39m\u001b[38;5;124m>\u001b[39m\n\u001b[0;32m     19\u001b[0m \u001b[38;5;124m</video>\u001b[39m\n\u001b[0;32m     20\u001b[0m \u001b[38;5;124m\"\"\"\u001b[39m \u001b[38;5;241m%\u001b[39m data_url)\n",
            "File \u001b[1;32mc:\\Users\\jgcao\\Desktop\\Wendy's Stuff\\VS Code\\YOLOv8_Segmentation_DeepSORT_Object_Tracking\\.conda\\Lib\\site-packages\\IPython\\core\\interactiveshell.py:324\u001b[0m, in \u001b[0;36m_modified_open\u001b[1;34m(file, *args, **kwargs)\u001b[0m\n\u001b[0;32m    317\u001b[0m \u001b[38;5;28;01mif\u001b[39;00m file \u001b[38;5;129;01min\u001b[39;00m {\u001b[38;5;241m0\u001b[39m, \u001b[38;5;241m1\u001b[39m, \u001b[38;5;241m2\u001b[39m}:\n\u001b[0;32m    318\u001b[0m     \u001b[38;5;28;01mraise\u001b[39;00m \u001b[38;5;167;01mValueError\u001b[39;00m(\n\u001b[0;32m    319\u001b[0m         \u001b[38;5;124mf\u001b[39m\u001b[38;5;124m\"\u001b[39m\u001b[38;5;124mIPython won\u001b[39m\u001b[38;5;124m'\u001b[39m\u001b[38;5;124mt let you open fd=\u001b[39m\u001b[38;5;132;01m{\u001b[39;00mfile\u001b[38;5;132;01m}\u001b[39;00m\u001b[38;5;124m by default \u001b[39m\u001b[38;5;124m\"\u001b[39m\n\u001b[0;32m    320\u001b[0m         \u001b[38;5;124m\"\u001b[39m\u001b[38;5;124mas it is likely to crash IPython. If you know what you are doing, \u001b[39m\u001b[38;5;124m\"\u001b[39m\n\u001b[0;32m    321\u001b[0m         \u001b[38;5;124m\"\u001b[39m\u001b[38;5;124myou can use builtins\u001b[39m\u001b[38;5;124m'\u001b[39m\u001b[38;5;124m open.\u001b[39m\u001b[38;5;124m\"\u001b[39m\n\u001b[0;32m    322\u001b[0m     )\n\u001b[1;32m--> 324\u001b[0m \u001b[38;5;28;01mreturn\u001b[39;00m \u001b[43mio_open\u001b[49m\u001b[43m(\u001b[49m\u001b[43mfile\u001b[49m\u001b[43m,\u001b[49m\u001b[43m \u001b[49m\u001b[38;5;241;43m*\u001b[39;49m\u001b[43margs\u001b[49m\u001b[43m,\u001b[49m\u001b[43m \u001b[49m\u001b[38;5;241;43m*\u001b[39;49m\u001b[38;5;241;43m*\u001b[39;49m\u001b[43mkwargs\u001b[49m\u001b[43m)\u001b[49m\n",
            "\u001b[1;31mFileNotFoundError\u001b[0m: [Errno 2] No such file or directory: 'result_compressed.mp4'"
          ]
        }
      ],
      "source": [
        "from IPython.display import HTML\n",
        "from base64 import b64encode\n",
        "import os\n",
        "\n",
        "# Input video path\n",
        "save_path = r\"C:\\Users\\jgcao\\Desktop\\Wendy's Stuff\\VS Code\\YOLOv8_Segmentation_DeepSORT_Object_Tracking\\runs\\detect\\train6\\2024-07-26 truncated timelapse.mp4\"\n",
        "\n",
        "# Compressed video path\n",
        "compressed_path = \"result_compressed.mp4\"\n",
        "\n",
        "os.system(f\"ffmpeg -i {save_path} -vcodec libx264 {compressed_path}\")\n",
        "\n",
        "# Show video\n",
        "mp4 = open(compressed_path,'rb').read()\n",
        "data_url = \"data:video/mp4;base64,\" + b64encode(mp4).decode()\n",
        "HTML(\"\"\"\n",
        "<video width=400 controls>\n",
        "      <source src=\"%s\" type=\"video/mp4\">\n",
        "</video>\n",
        "\"\"\" % data_url)"
      ]
    }
  ],
  "metadata": {
    "accelerator": "GPU",
    "colab": {
      "provenance": []
    },
    "gpuClass": "standard",
    "kernelspec": {
      "display_name": "Python 3",
      "name": "python3"
    },
    "language_info": {
      "codemirror_mode": {
        "name": "ipython",
        "version": 3
      },
      "file_extension": ".py",
      "mimetype": "text/x-python",
      "name": "python",
      "nbconvert_exporter": "python",
      "pygments_lexer": "ipython3",
      "version": "3.11.11"
    }
  },
  "nbformat": 4,
  "nbformat_minor": 0
}
